{
 "cells": [
  {
   "cell_type": "markdown",
   "metadata": {},
   "source": [
    "## Time-Series Visualization using bokeh"
   ]
  },
  {
   "cell_type": "markdown",
   "metadata": {},
   "source": [
    "#### Bingyi Li"
   ]
  },
  {
   "cell_type": "code",
   "execution_count": 1,
   "metadata": {
    "collapsed": true
   },
   "outputs": [],
   "source": [
    "import pandas as pd\n",
    "\n",
    "from bokeh.layouts import gridplot\n",
    "from bokeh.plotting import figure, show, output_file\n",
    "from bokeh.palettes import YlOrRd\n",
    "from bokeh.transform import factor_cmap\n",
    "from bokeh.io import output_notebook\n",
    "from bokeh.models import (\n",
    "    ColumnDataSource,\n",
    "    HoverTool,\n",
    "    LinearColorMapper,\n",
    "    BasicTicker,\n",
    "    PrintfTickFormatter,\n",
    "    ColorBar,\n",
    ")"
   ]
  },
  {
   "cell_type": "code",
   "execution_count": 2,
   "metadata": {},
   "outputs": [
    {
     "data": {
      "text/html": [
       "\n",
       "    <div class=\"bk-root\">\n",
       "        <a href=\"https://bokeh.pydata.org\" target=\"_blank\" class=\"bk-logo bk-logo-small bk-logo-notebook\"></a>\n",
       "        <span id=\"c654429f-59f1-440b-a9ca-1b3e9fd84393\">Loading BokehJS ...</span>\n",
       "    </div>"
      ]
     },
     "metadata": {},
     "output_type": "display_data"
    },
    {
     "data": {
      "application/javascript": [
       "\n",
       "(function(root) {\n",
       "  function now() {\n",
       "    return new Date();\n",
       "  }\n",
       "\n",
       "  var force = true;\n",
       "\n",
       "  if (typeof (root._bokeh_onload_callbacks) === \"undefined\" || force === true) {\n",
       "    root._bokeh_onload_callbacks = [];\n",
       "    root._bokeh_is_loading = undefined;\n",
       "  }\n",
       "\n",
       "  var JS_MIME_TYPE = 'application/javascript';\n",
       "  var HTML_MIME_TYPE = 'text/html';\n",
       "  var EXEC_MIME_TYPE = 'application/vnd.bokehjs_exec.v0+json';\n",
       "  var CLASS_NAME = 'output_bokeh rendered_html';\n",
       "\n",
       "  /**\n",
       "   * Render data to the DOM node\n",
       "   */\n",
       "  function render(props, node) {\n",
       "    var script = document.createElement(\"script\");\n",
       "    node.appendChild(script);\n",
       "  }\n",
       "\n",
       "  /**\n",
       "   * Handle when an output is cleared or removed\n",
       "   */\n",
       "  function handleClearOutput(event, handle) {\n",
       "    var cell = handle.cell;\n",
       "\n",
       "    var id = cell.output_area._bokeh_element_id;\n",
       "    var server_id = cell.output_area._bokeh_server_id;\n",
       "    // Clean up Bokeh references\n",
       "    if (id !== undefined) {\n",
       "      Bokeh.index[id].model.document.clear();\n",
       "      delete Bokeh.index[id];\n",
       "    }\n",
       "\n",
       "    if (server_id !== undefined) {\n",
       "      // Clean up Bokeh references\n",
       "      var cmd = \"from bokeh.io.state import curstate; print(curstate().uuid_to_server['\" + server_id + \"'].get_sessions()[0].document.roots[0]._id)\";\n",
       "      cell.notebook.kernel.execute(cmd, {\n",
       "        iopub: {\n",
       "          output: function(msg) {\n",
       "            var element_id = msg.content.text.trim();\n",
       "            Bokeh.index[element_id].model.document.clear();\n",
       "            delete Bokeh.index[element_id];\n",
       "          }\n",
       "        }\n",
       "      });\n",
       "      // Destroy server and session\n",
       "      var cmd = \"import bokeh.io.notebook as ion; ion.destroy_server('\" + server_id + \"')\";\n",
       "      cell.notebook.kernel.execute(cmd);\n",
       "    }\n",
       "  }\n",
       "\n",
       "  /**\n",
       "   * Handle when a new output is added\n",
       "   */\n",
       "  function handleAddOutput(event, handle) {\n",
       "    var output_area = handle.output_area;\n",
       "    var output = handle.output;\n",
       "\n",
       "    // limit handleAddOutput to display_data with EXEC_MIME_TYPE content only\n",
       "    if ((output.output_type != \"display_data\") || (!output.data.hasOwnProperty(EXEC_MIME_TYPE))) {\n",
       "      return\n",
       "    }\n",
       "\n",
       "    var toinsert = output_area.element.find(\".\" + CLASS_NAME.split(' ')[0]);\n",
       "\n",
       "    if (output.metadata[EXEC_MIME_TYPE][\"id\"] !== undefined) {\n",
       "      toinsert[toinsert.length - 1].firstChild.textContent = output.data[JS_MIME_TYPE];\n",
       "      // store reference to embed id on output_area\n",
       "      output_area._bokeh_element_id = output.metadata[EXEC_MIME_TYPE][\"id\"];\n",
       "    }\n",
       "    if (output.metadata[EXEC_MIME_TYPE][\"server_id\"] !== undefined) {\n",
       "      var bk_div = document.createElement(\"div\");\n",
       "      bk_div.innerHTML = output.data[HTML_MIME_TYPE];\n",
       "      var script_attrs = bk_div.children[0].attributes;\n",
       "      for (var i = 0; i < script_attrs.length; i++) {\n",
       "        toinsert[toinsert.length - 1].firstChild.setAttribute(script_attrs[i].name, script_attrs[i].value);\n",
       "      }\n",
       "      // store reference to server id on output_area\n",
       "      output_area._bokeh_server_id = output.metadata[EXEC_MIME_TYPE][\"server_id\"];\n",
       "    }\n",
       "  }\n",
       "\n",
       "  function register_renderer(events, OutputArea) {\n",
       "\n",
       "    function append_mime(data, metadata, element) {\n",
       "      // create a DOM node to render to\n",
       "      var toinsert = this.create_output_subarea(\n",
       "        metadata,\n",
       "        CLASS_NAME,\n",
       "        EXEC_MIME_TYPE\n",
       "      );\n",
       "      this.keyboard_manager.register_events(toinsert);\n",
       "      // Render to node\n",
       "      var props = {data: data, metadata: metadata[EXEC_MIME_TYPE]};\n",
       "      render(props, toinsert[toinsert.length - 1]);\n",
       "      element.append(toinsert);\n",
       "      return toinsert\n",
       "    }\n",
       "\n",
       "    /* Handle when an output is cleared or removed */\n",
       "    events.on('clear_output.CodeCell', handleClearOutput);\n",
       "    events.on('delete.Cell', handleClearOutput);\n",
       "\n",
       "    /* Handle when a new output is added */\n",
       "    events.on('output_added.OutputArea', handleAddOutput);\n",
       "\n",
       "    /**\n",
       "     * Register the mime type and append_mime function with output_area\n",
       "     */\n",
       "    OutputArea.prototype.register_mime_type(EXEC_MIME_TYPE, append_mime, {\n",
       "      /* Is output safe? */\n",
       "      safe: true,\n",
       "      /* Index of renderer in `output_area.display_order` */\n",
       "      index: 0\n",
       "    });\n",
       "  }\n",
       "\n",
       "  // register the mime type if in Jupyter Notebook environment and previously unregistered\n",
       "  if (root.Jupyter !== undefined) {\n",
       "    var events = require('base/js/events');\n",
       "    var OutputArea = require('notebook/js/outputarea').OutputArea;\n",
       "\n",
       "    if (OutputArea.prototype.mime_types().indexOf(EXEC_MIME_TYPE) == -1) {\n",
       "      register_renderer(events, OutputArea);\n",
       "    }\n",
       "  }\n",
       "\n",
       "  \n",
       "  if (typeof (root._bokeh_timeout) === \"undefined\" || force === true) {\n",
       "    root._bokeh_timeout = Date.now() + 5000;\n",
       "    root._bokeh_failed_load = false;\n",
       "  }\n",
       "\n",
       "  var NB_LOAD_WARNING = {'data': {'text/html':\n",
       "     \"<div style='background-color: #fdd'>\\n\"+\n",
       "     \"<p>\\n\"+\n",
       "     \"BokehJS does not appear to have successfully loaded. If loading BokehJS from CDN, this \\n\"+\n",
       "     \"may be due to a slow or bad network connection. Possible fixes:\\n\"+\n",
       "     \"</p>\\n\"+\n",
       "     \"<ul>\\n\"+\n",
       "     \"<li>re-rerun `output_notebook()` to attempt to load from CDN again, or</li>\\n\"+\n",
       "     \"<li>use INLINE resources instead, as so:</li>\\n\"+\n",
       "     \"</ul>\\n\"+\n",
       "     \"<code>\\n\"+\n",
       "     \"from bokeh.resources import INLINE\\n\"+\n",
       "     \"output_notebook(resources=INLINE)\\n\"+\n",
       "     \"</code>\\n\"+\n",
       "     \"</div>\"}};\n",
       "\n",
       "  function display_loaded() {\n",
       "    var el = document.getElementById(\"c654429f-59f1-440b-a9ca-1b3e9fd84393\");\n",
       "    if (el != null) {\n",
       "      el.textContent = \"BokehJS is loading...\";\n",
       "    }\n",
       "    if (root.Bokeh !== undefined) {\n",
       "      if (el != null) {\n",
       "        el.textContent = \"BokehJS \" + root.Bokeh.version + \" successfully loaded.\";\n",
       "      }\n",
       "    } else if (Date.now() < root._bokeh_timeout) {\n",
       "      setTimeout(display_loaded, 100)\n",
       "    }\n",
       "  }\n",
       "\n",
       "\n",
       "  function run_callbacks() {\n",
       "    try {\n",
       "      root._bokeh_onload_callbacks.forEach(function(callback) { callback() });\n",
       "    }\n",
       "    finally {\n",
       "      delete root._bokeh_onload_callbacks\n",
       "    }\n",
       "    console.info(\"Bokeh: all callbacks have finished\");\n",
       "  }\n",
       "\n",
       "  function load_libs(js_urls, callback) {\n",
       "    root._bokeh_onload_callbacks.push(callback);\n",
       "    if (root._bokeh_is_loading > 0) {\n",
       "      console.log(\"Bokeh: BokehJS is being loaded, scheduling callback at\", now());\n",
       "      return null;\n",
       "    }\n",
       "    if (js_urls == null || js_urls.length === 0) {\n",
       "      run_callbacks();\n",
       "      return null;\n",
       "    }\n",
       "    console.log(\"Bokeh: BokehJS not loaded, scheduling load and callback at\", now());\n",
       "    root._bokeh_is_loading = js_urls.length;\n",
       "    for (var i = 0; i < js_urls.length; i++) {\n",
       "      var url = js_urls[i];\n",
       "      var s = document.createElement('script');\n",
       "      s.src = url;\n",
       "      s.async = false;\n",
       "      s.onreadystatechange = s.onload = function() {\n",
       "        root._bokeh_is_loading--;\n",
       "        if (root._bokeh_is_loading === 0) {\n",
       "          console.log(\"Bokeh: all BokehJS libraries loaded\");\n",
       "          run_callbacks()\n",
       "        }\n",
       "      };\n",
       "      s.onerror = function() {\n",
       "        console.warn(\"failed to load library \" + url);\n",
       "      };\n",
       "      console.log(\"Bokeh: injecting script tag for BokehJS library: \", url);\n",
       "      document.getElementsByTagName(\"head\")[0].appendChild(s);\n",
       "    }\n",
       "  };var element = document.getElementById(\"c654429f-59f1-440b-a9ca-1b3e9fd84393\");\n",
       "  if (element == null) {\n",
       "    console.log(\"Bokeh: ERROR: autoload.js configured with elementid 'c654429f-59f1-440b-a9ca-1b3e9fd84393' but no matching script tag was found. \")\n",
       "    return false;\n",
       "  }\n",
       "\n",
       "  var js_urls = [\"https://cdn.pydata.org/bokeh/release/bokeh-0.12.15.min.js\", \"https://cdn.pydata.org/bokeh/release/bokeh-widgets-0.12.15.min.js\", \"https://cdn.pydata.org/bokeh/release/bokeh-tables-0.12.15.min.js\", \"https://cdn.pydata.org/bokeh/release/bokeh-gl-0.12.15.min.js\"];\n",
       "\n",
       "  var inline_js = [\n",
       "    function(Bokeh) {\n",
       "      Bokeh.set_log_level(\"info\");\n",
       "    },\n",
       "    \n",
       "    function(Bokeh) {\n",
       "      \n",
       "    },\n",
       "    function(Bokeh) {\n",
       "      console.log(\"Bokeh: injecting CSS: https://cdn.pydata.org/bokeh/release/bokeh-0.12.15.min.css\");\n",
       "      Bokeh.embed.inject_css(\"https://cdn.pydata.org/bokeh/release/bokeh-0.12.15.min.css\");\n",
       "      console.log(\"Bokeh: injecting CSS: https://cdn.pydata.org/bokeh/release/bokeh-widgets-0.12.15.min.css\");\n",
       "      Bokeh.embed.inject_css(\"https://cdn.pydata.org/bokeh/release/bokeh-widgets-0.12.15.min.css\");\n",
       "      console.log(\"Bokeh: injecting CSS: https://cdn.pydata.org/bokeh/release/bokeh-tables-0.12.15.min.css\");\n",
       "      Bokeh.embed.inject_css(\"https://cdn.pydata.org/bokeh/release/bokeh-tables-0.12.15.min.css\");\n",
       "    }\n",
       "  ];\n",
       "\n",
       "  function run_inline_js() {\n",
       "    \n",
       "    if ((root.Bokeh !== undefined) || (force === true)) {\n",
       "      for (var i = 0; i < inline_js.length; i++) {\n",
       "        inline_js[i].call(root, root.Bokeh);\n",
       "      }if (force === true) {\n",
       "        display_loaded();\n",
       "      }} else if (Date.now() < root._bokeh_timeout) {\n",
       "      setTimeout(run_inline_js, 100);\n",
       "    } else if (!root._bokeh_failed_load) {\n",
       "      console.log(\"Bokeh: BokehJS failed to load within specified timeout.\");\n",
       "      root._bokeh_failed_load = true;\n",
       "    } else if (force !== true) {\n",
       "      var cell = $(document.getElementById(\"c654429f-59f1-440b-a9ca-1b3e9fd84393\")).parents('.cell').data().cell;\n",
       "      cell.output_area.append_execute_result(NB_LOAD_WARNING)\n",
       "    }\n",
       "\n",
       "  }\n",
       "\n",
       "  if (root._bokeh_is_loading === 0) {\n",
       "    console.log(\"Bokeh: BokehJS loaded, going straight to plotting\");\n",
       "    run_inline_js();\n",
       "  } else {\n",
       "    load_libs(js_urls, function() {\n",
       "      console.log(\"Bokeh: BokehJS plotting callback run at\", now());\n",
       "      run_inline_js();\n",
       "    });\n",
       "  }\n",
       "}(window));"
      ],
      "application/vnd.bokehjs_load.v0+json": "\n(function(root) {\n  function now() {\n    return new Date();\n  }\n\n  var force = true;\n\n  if (typeof (root._bokeh_onload_callbacks) === \"undefined\" || force === true) {\n    root._bokeh_onload_callbacks = [];\n    root._bokeh_is_loading = undefined;\n  }\n\n  \n\n  \n  if (typeof (root._bokeh_timeout) === \"undefined\" || force === true) {\n    root._bokeh_timeout = Date.now() + 5000;\n    root._bokeh_failed_load = false;\n  }\n\n  var NB_LOAD_WARNING = {'data': {'text/html':\n     \"<div style='background-color: #fdd'>\\n\"+\n     \"<p>\\n\"+\n     \"BokehJS does not appear to have successfully loaded. If loading BokehJS from CDN, this \\n\"+\n     \"may be due to a slow or bad network connection. Possible fixes:\\n\"+\n     \"</p>\\n\"+\n     \"<ul>\\n\"+\n     \"<li>re-rerun `output_notebook()` to attempt to load from CDN again, or</li>\\n\"+\n     \"<li>use INLINE resources instead, as so:</li>\\n\"+\n     \"</ul>\\n\"+\n     \"<code>\\n\"+\n     \"from bokeh.resources import INLINE\\n\"+\n     \"output_notebook(resources=INLINE)\\n\"+\n     \"</code>\\n\"+\n     \"</div>\"}};\n\n  function display_loaded() {\n    var el = document.getElementById(\"c654429f-59f1-440b-a9ca-1b3e9fd84393\");\n    if (el != null) {\n      el.textContent = \"BokehJS is loading...\";\n    }\n    if (root.Bokeh !== undefined) {\n      if (el != null) {\n        el.textContent = \"BokehJS \" + root.Bokeh.version + \" successfully loaded.\";\n      }\n    } else if (Date.now() < root._bokeh_timeout) {\n      setTimeout(display_loaded, 100)\n    }\n  }\n\n\n  function run_callbacks() {\n    try {\n      root._bokeh_onload_callbacks.forEach(function(callback) { callback() });\n    }\n    finally {\n      delete root._bokeh_onload_callbacks\n    }\n    console.info(\"Bokeh: all callbacks have finished\");\n  }\n\n  function load_libs(js_urls, callback) {\n    root._bokeh_onload_callbacks.push(callback);\n    if (root._bokeh_is_loading > 0) {\n      console.log(\"Bokeh: BokehJS is being loaded, scheduling callback at\", now());\n      return null;\n    }\n    if (js_urls == null || js_urls.length === 0) {\n      run_callbacks();\n      return null;\n    }\n    console.log(\"Bokeh: BokehJS not loaded, scheduling load and callback at\", now());\n    root._bokeh_is_loading = js_urls.length;\n    for (var i = 0; i < js_urls.length; i++) {\n      var url = js_urls[i];\n      var s = document.createElement('script');\n      s.src = url;\n      s.async = false;\n      s.onreadystatechange = s.onload = function() {\n        root._bokeh_is_loading--;\n        if (root._bokeh_is_loading === 0) {\n          console.log(\"Bokeh: all BokehJS libraries loaded\");\n          run_callbacks()\n        }\n      };\n      s.onerror = function() {\n        console.warn(\"failed to load library \" + url);\n      };\n      console.log(\"Bokeh: injecting script tag for BokehJS library: \", url);\n      document.getElementsByTagName(\"head\")[0].appendChild(s);\n    }\n  };var element = document.getElementById(\"c654429f-59f1-440b-a9ca-1b3e9fd84393\");\n  if (element == null) {\n    console.log(\"Bokeh: ERROR: autoload.js configured with elementid 'c654429f-59f1-440b-a9ca-1b3e9fd84393' but no matching script tag was found. \")\n    return false;\n  }\n\n  var js_urls = [\"https://cdn.pydata.org/bokeh/release/bokeh-0.12.15.min.js\", \"https://cdn.pydata.org/bokeh/release/bokeh-widgets-0.12.15.min.js\", \"https://cdn.pydata.org/bokeh/release/bokeh-tables-0.12.15.min.js\", \"https://cdn.pydata.org/bokeh/release/bokeh-gl-0.12.15.min.js\"];\n\n  var inline_js = [\n    function(Bokeh) {\n      Bokeh.set_log_level(\"info\");\n    },\n    \n    function(Bokeh) {\n      \n    },\n    function(Bokeh) {\n      console.log(\"Bokeh: injecting CSS: https://cdn.pydata.org/bokeh/release/bokeh-0.12.15.min.css\");\n      Bokeh.embed.inject_css(\"https://cdn.pydata.org/bokeh/release/bokeh-0.12.15.min.css\");\n      console.log(\"Bokeh: injecting CSS: https://cdn.pydata.org/bokeh/release/bokeh-widgets-0.12.15.min.css\");\n      Bokeh.embed.inject_css(\"https://cdn.pydata.org/bokeh/release/bokeh-widgets-0.12.15.min.css\");\n      console.log(\"Bokeh: injecting CSS: https://cdn.pydata.org/bokeh/release/bokeh-tables-0.12.15.min.css\");\n      Bokeh.embed.inject_css(\"https://cdn.pydata.org/bokeh/release/bokeh-tables-0.12.15.min.css\");\n    }\n  ];\n\n  function run_inline_js() {\n    \n    if ((root.Bokeh !== undefined) || (force === true)) {\n      for (var i = 0; i < inline_js.length; i++) {\n        inline_js[i].call(root, root.Bokeh);\n      }if (force === true) {\n        display_loaded();\n      }} else if (Date.now() < root._bokeh_timeout) {\n      setTimeout(run_inline_js, 100);\n    } else if (!root._bokeh_failed_load) {\n      console.log(\"Bokeh: BokehJS failed to load within specified timeout.\");\n      root._bokeh_failed_load = true;\n    } else if (force !== true) {\n      var cell = $(document.getElementById(\"c654429f-59f1-440b-a9ca-1b3e9fd84393\")).parents('.cell').data().cell;\n      cell.output_area.append_execute_result(NB_LOAD_WARNING)\n    }\n\n  }\n\n  if (root._bokeh_is_loading === 0) {\n    console.log(\"Bokeh: BokehJS loaded, going straight to plotting\");\n    run_inline_js();\n  } else {\n    load_libs(js_urls, function() {\n      console.log(\"Bokeh: BokehJS plotting callback run at\", now());\n      run_inline_js();\n    });\n  }\n}(window));"
     },
     "metadata": {},
     "output_type": "display_data"
    }
   ],
   "source": [
    "output_notebook()"
   ]
  },
  {
   "cell_type": "code",
   "execution_count": 3,
   "metadata": {},
   "outputs": [
    {
     "data": {
      "text/html": [
       "<div>\n",
       "<style>\n",
       "    .dataframe thead tr:only-child th {\n",
       "        text-align: right;\n",
       "    }\n",
       "\n",
       "    .dataframe thead th {\n",
       "        text-align: left;\n",
       "    }\n",
       "\n",
       "    .dataframe tbody tr th {\n",
       "        vertical-align: top;\n",
       "    }\n",
       "</style>\n",
       "<table border=\"1\" class=\"dataframe\">\n",
       "  <thead>\n",
       "    <tr style=\"text-align: right;\">\n",
       "      <th></th>\n",
       "      <th>Date</th>\n",
       "      <th>Category</th>\n",
       "      <th>IncidntNum</th>\n",
       "      <th>Year</th>\n",
       "      <th>Month</th>\n",
       "    </tr>\n",
       "  </thead>\n",
       "  <tbody>\n",
       "    <tr>\n",
       "      <th>0</th>\n",
       "      <td>2014-02-01</td>\n",
       "      <td>BURGLARY</td>\n",
       "      <td>506</td>\n",
       "      <td>2014</td>\n",
       "      <td>2</td>\n",
       "    </tr>\n",
       "    <tr>\n",
       "      <th>1</th>\n",
       "      <td>2007-02-01</td>\n",
       "      <td>VANDALISM</td>\n",
       "      <td>531</td>\n",
       "      <td>2007</td>\n",
       "      <td>2</td>\n",
       "    </tr>\n",
       "    <tr>\n",
       "      <th>2</th>\n",
       "      <td>2012-07-01</td>\n",
       "      <td>BURGLARY</td>\n",
       "      <td>522</td>\n",
       "      <td>2012</td>\n",
       "      <td>7</td>\n",
       "    </tr>\n",
       "    <tr>\n",
       "      <th>3</th>\n",
       "      <td>2013-07-01</td>\n",
       "      <td>LARCENY/THEFT</td>\n",
       "      <td>3318</td>\n",
       "      <td>2013</td>\n",
       "      <td>7</td>\n",
       "    </tr>\n",
       "    <tr>\n",
       "      <th>4</th>\n",
       "      <td>2010-08-01</td>\n",
       "      <td>VANDALISM</td>\n",
       "      <td>694</td>\n",
       "      <td>2010</td>\n",
       "      <td>8</td>\n",
       "    </tr>\n",
       "  </tbody>\n",
       "</table>\n",
       "</div>"
      ],
      "text/plain": [
       "        Date       Category  IncidntNum  Year  Month\n",
       "0 2014-02-01       BURGLARY         506  2014      2\n",
       "1 2007-02-01      VANDALISM         531  2007      2\n",
       "2 2012-07-01       BURGLARY         522  2012      7\n",
       "3 2013-07-01  LARCENY/THEFT        3318  2013      7\n",
       "4 2010-08-01      VANDALISM         694  2010      8"
      ]
     },
     "execution_count": 3,
     "metadata": {},
     "output_type": "execute_result"
    }
   ],
   "source": [
    "data = pd.read_csv('/Users/libingyi/Documents/MSAN/MSAN622/data/Monthly_Property_Crime_2005_to_2015.csv', parse_dates=['Date'])\n",
    "data['Year'] = data['Date'].dt.year\n",
    "data['Month'] = data['Date'].dt.month\n",
    "data.head()"
   ]
  },
  {
   "cell_type": "markdown",
   "metadata": {},
   "source": [
    "This dataset contains information of monthly property crimes in San Francisco from 2005 to 2015. First, one can use a heatmap to get an overall sense of the incidences. "
   ]
  },
  {
   "cell_type": "code",
   "execution_count": 4,
   "metadata": {},
   "outputs": [
    {
     "data": {
      "text/html": [
       "\n",
       "<div class=\"bk-root\">\n",
       "    <div class=\"bk-plotdiv\" id=\"fad6302e-129b-4d58-8a08-55013264fb73\"></div>\n",
       "</div>"
      ]
     },
     "metadata": {},
     "output_type": "display_data"
    },
    {
     "data": {
      "application/javascript": [
       "(function(root) {\n",
       "  function embed_document(root) {\n",
       "    \n",
       "  var docs_json = {\"e23884ae-8108-4bff-b52d-6f60974dea19\":{\"roots\":{\"references\":[{\"attributes\":{},\"id\":\"4846d931-0d0b-4845-b003-6378a579b991\",\"type\":\"CategoricalTicker\"},{\"attributes\":{\"dimension\":1,\"plot\":{\"id\":\"26797b70-1744-4c06-9017-c519bdba7bf2\",\"subtype\":\"Figure\",\"type\":\"Plot\"},\"ticker\":{\"id\":\"4846d931-0d0b-4845-b003-6378a579b991\",\"type\":\"CategoricalTicker\"}},\"id\":\"2ae4173e-47c5-48fb-aa17-6eaeaa6795a9\",\"type\":\"Grid\"},{\"attributes\":{\"high\":6009,\"low\":3067,\"palette\":[\"#ffffcc\",\"#ffeda0\",\"#fed976\",\"#feb24c\",\"#fd8d3c\",\"#fc4e2a\",\"#e31a1c\",\"#bd0026\",\"#800026\"]},\"id\":\"be58944d-3c8f-4397-961a-bb5f81058c1d\",\"type\":\"LinearColorMapper\"},{\"attributes\":{\"active_drag\":\"auto\",\"active_inspect\":\"auto\",\"active_scroll\":\"auto\",\"active_tap\":\"auto\",\"tools\":[{\"id\":\"380902b1-eef8-49a0-830c-b5b98036bd1b\",\"type\":\"HoverTool\"},{\"id\":\"d3e4d5f1-cde3-4af7-bf2d-7de1279195fc\",\"type\":\"SaveTool\"},{\"id\":\"950acf4f-298f-4d15-8ec4-c910b4771512\",\"type\":\"PanTool\"},{\"id\":\"54aefb78-fdaa-4dfa-a078-b8b046d69c6f\",\"type\":\"BoxZoomTool\"},{\"id\":\"899c667b-c399-4c77-8da5-02b718aa46d2\",\"type\":\"ResetTool\"},{\"id\":\"dd844da1-d306-4efb-bfef-13edc89cc942\",\"type\":\"WheelZoomTool\"}]},\"id\":\"12609dcf-b6c1-4d67-8344-c975ff933f51\",\"type\":\"Toolbar\"},{\"attributes\":{\"format\":\"%d%%\"},\"id\":\"661f4d49-dbef-440d-b04b-4a31e8c1f3af\",\"type\":\"PrintfTickFormatter\"},{\"attributes\":{},\"id\":\"7aa32e15-b4da-480e-b0a5-0613b60fc461\",\"type\":\"CategoricalTickFormatter\"},{\"attributes\":{\"callback\":null,\"column_names\":[\"Year\",\"Month\",\"IncidntNum\",\"index\"],\"data\":{\"IncidntNum\":[4991,4166,4815,4711,5120,4918,5143,5092,4770,5191,4862,4589,4167,3825,4177,4412,4270,4188,4259,4511,4171,4261,3903,4006,3720,3067,3747,3582,3643,3851,4482,4296,4188,4129,3715,3603,3805,3338,3944,4027,3831,3467,3818,3818,4010,4282,3713,3594,3540,3186,3858,3667,3450,3291,4001,4239,3925,3915,3790,3771,3688,3078,3355,3311,3495,3577,3659,3855,3721,3654,3668,3520,3655,3222,3856,3534,3676,3434,3415,3644,3608,3934,3798,4109,3809,3741,3768,4073,4254,4197,4459,4732,4808,5202,4789,4547,4668,4215,4613,4607,4355,4380,5074,5300,5638,5190,4629,4572,4771,4164,4826,4886,4650,4477,5065,5518,4921,5652,5242,5507,5555,4945,5750,5394,6009,5741,5885,5651,5294,5222,4692,4749],\"Month\":[\"1\",\"2\",\"3\",\"4\",\"5\",\"6\",\"7\",\"8\",\"9\",\"10\",\"11\",\"12\",\"1\",\"2\",\"3\",\"4\",\"5\",\"6\",\"7\",\"8\",\"9\",\"10\",\"11\",\"12\",\"1\",\"2\",\"3\",\"4\",\"5\",\"6\",\"7\",\"8\",\"9\",\"10\",\"11\",\"12\",\"1\",\"2\",\"3\",\"4\",\"5\",\"6\",\"7\",\"8\",\"9\",\"10\",\"11\",\"12\",\"1\",\"2\",\"3\",\"4\",\"5\",\"6\",\"7\",\"8\",\"9\",\"10\",\"11\",\"12\",\"1\",\"2\",\"3\",\"4\",\"5\",\"6\",\"7\",\"8\",\"9\",\"10\",\"11\",\"12\",\"1\",\"2\",\"3\",\"4\",\"5\",\"6\",\"7\",\"8\",\"9\",\"10\",\"11\",\"12\",\"1\",\"2\",\"3\",\"4\",\"5\",\"6\",\"7\",\"8\",\"9\",\"10\",\"11\",\"12\",\"1\",\"2\",\"3\",\"4\",\"5\",\"6\",\"7\",\"8\",\"9\",\"10\",\"11\",\"12\",\"1\",\"2\",\"3\",\"4\",\"5\",\"6\",\"7\",\"8\",\"9\",\"10\",\"11\",\"12\",\"1\",\"2\",\"3\",\"4\",\"5\",\"6\",\"7\",\"8\",\"9\",\"10\",\"11\",\"12\"],\"Year\":[\"2005\",\"2005\",\"2005\",\"2005\",\"2005\",\"2005\",\"2005\",\"2005\",\"2005\",\"2005\",\"2005\",\"2005\",\"2006\",\"2006\",\"2006\",\"2006\",\"2006\",\"2006\",\"2006\",\"2006\",\"2006\",\"2006\",\"2006\",\"2006\",\"2007\",\"2007\",\"2007\",\"2007\",\"2007\",\"2007\",\"2007\",\"2007\",\"2007\",\"2007\",\"2007\",\"2007\",\"2008\",\"2008\",\"2008\",\"2008\",\"2008\",\"2008\",\"2008\",\"2008\",\"2008\",\"2008\",\"2008\",\"2008\",\"2009\",\"2009\",\"2009\",\"2009\",\"2009\",\"2009\",\"2009\",\"2009\",\"2009\",\"2009\",\"2009\",\"2009\",\"2010\",\"2010\",\"2010\",\"2010\",\"2010\",\"2010\",\"2010\",\"2010\",\"2010\",\"2010\",\"2010\",\"2010\",\"2011\",\"2011\",\"2011\",\"2011\",\"2011\",\"2011\",\"2011\",\"2011\",\"2011\",\"2011\",\"2011\",\"2011\",\"2012\",\"2012\",\"2012\",\"2012\",\"2012\",\"2012\",\"2012\",\"2012\",\"2012\",\"2012\",\"2012\",\"2012\",\"2013\",\"2013\",\"2013\",\"2013\",\"2013\",\"2013\",\"2013\",\"2013\",\"2013\",\"2013\",\"2013\",\"2013\",\"2014\",\"2014\",\"2014\",\"2014\",\"2014\",\"2014\",\"2014\",\"2014\",\"2014\",\"2014\",\"2014\",\"2014\",\"2015\",\"2015\",\"2015\",\"2015\",\"2015\",\"2015\",\"2015\",\"2015\",\"2015\",\"2015\",\"2015\",\"2015\"],\"index\":[0,1,2,3,4,5,6,7,8,9,10,11,12,13,14,15,16,17,18,19,20,21,22,23,24,25,26,27,28,29,30,31,32,33,34,35,36,37,38,39,40,41,42,43,44,45,46,47,48,49,50,51,52,53,54,55,56,57,58,59,60,61,62,63,64,65,66,67,68,69,70,71,72,73,74,75,76,77,78,79,80,81,82,83,84,85,86,87,88,89,90,91,92,93,94,95,96,97,98,99,100,101,102,103,104,105,106,107,108,109,110,111,112,113,114,115,116,117,118,119,120,121,122,123,124,125,126,127,128,129,130,131]},\"selected\":null,\"selection_policy\":null},\"id\":\"aec41a0e-60a5-4dea-a765-a2625c6c172f\",\"type\":\"ColumnDataSource\"},{\"attributes\":{},\"id\":\"c81c31b8-99e4-4cd3-9b91-6133ada0b3ca\",\"type\":\"CategoricalTickFormatter\"},{\"attributes\":{\"callback\":null,\"tooltips\":[[\"date\",\"@Month @Year\"],[\"Number of Incident\",\"@IncidntNum\"]]},\"id\":\"380902b1-eef8-49a0-830c-b5b98036bd1b\",\"type\":\"HoverTool\"},{\"attributes\":{\"plot\":null,\"text\":\"San Francisco Property Crime (2005 - 2015)\"},\"id\":\"6e7cd3aa-b771-449f-a730-f186cd3ef130\",\"type\":\"Title\"},{\"attributes\":{\"callback\":null,\"factors\":[\"2005\",\"2006\",\"2007\",\"2008\",\"2009\",\"2010\",\"2011\",\"2012\",\"2013\",\"2014\",\"2015\"]},\"id\":\"00bbc876-b19d-42f5-97c2-7a6c23162801\",\"type\":\"FactorRange\"},{\"attributes\":{},\"id\":\"d3e4d5f1-cde3-4af7-bf2d-7de1279195fc\",\"type\":\"SaveTool\"},{\"attributes\":{},\"id\":\"950acf4f-298f-4d15-8ec4-c910b4771512\",\"type\":\"PanTool\"},{\"attributes\":{\"fill_color\":{\"field\":\"IncidntNum\",\"transform\":{\"id\":\"be58944d-3c8f-4397-961a-bb5f81058c1d\",\"type\":\"LinearColorMapper\"}},\"height\":{\"units\":\"data\",\"value\":1},\"line_color\":{\"value\":null},\"width\":{\"units\":\"data\",\"value\":1},\"x\":{\"field\":\"Year\"},\"y\":{\"field\":\"Month\"}},\"id\":\"79ebe50f-4cf7-42c2-9500-ad18155c4f7f\",\"type\":\"Rect\"},{\"attributes\":{\"source\":{\"id\":\"aec41a0e-60a5-4dea-a765-a2625c6c172f\",\"type\":\"ColumnDataSource\"}},\"id\":\"2e1ab3a5-8d03-4293-9ff6-e747c045c47a\",\"type\":\"CDSView\"},{\"attributes\":{\"overlay\":{\"id\":\"add5ba2f-a8a4-4a8d-b560-69e97a095de1\",\"type\":\"BoxAnnotation\"}},\"id\":\"54aefb78-fdaa-4dfa-a078-b8b046d69c6f\",\"type\":\"BoxZoomTool\"},{\"attributes\":{},\"id\":\"9cd82b3b-b0b2-45ba-b100-808d4e56f213\",\"type\":\"CategoricalScale\"},{\"attributes\":{},\"id\":\"899c667b-c399-4c77-8da5-02b718aa46d2\",\"type\":\"ResetTool\"},{\"attributes\":{\"callback\":null,\"factors\":[\"12\",\"11\",\"10\",\"9\",\"8\",\"7\",\"6\",\"5\",\"4\",\"3\",\"2\",\"1\"]},\"id\":\"b9c3cc46-4444-42e9-a5b9-68ac9836e6d6\",\"type\":\"FactorRange\"},{\"attributes\":{\"data_source\":{\"id\":\"aec41a0e-60a5-4dea-a765-a2625c6c172f\",\"type\":\"ColumnDataSource\"},\"glyph\":{\"id\":\"79ebe50f-4cf7-42c2-9500-ad18155c4f7f\",\"type\":\"Rect\"},\"hover_glyph\":null,\"muted_glyph\":null,\"nonselection_glyph\":{\"id\":\"99e38491-9ce9-408b-839c-15ee77422bd3\",\"type\":\"Rect\"},\"selection_glyph\":null,\"view\":{\"id\":\"2e1ab3a5-8d03-4293-9ff6-e747c045c47a\",\"type\":\"CDSView\"}},\"id\":\"6219a210-cf45-4b1f-8d4b-e0314810007f\",\"type\":\"GlyphRenderer\"},{\"attributes\":{},\"id\":\"f02811f4-552d-4345-a6f5-e13f98eeefa4\",\"type\":\"CategoricalScale\"},{\"attributes\":{},\"id\":\"dd844da1-d306-4efb-bfef-13edc89cc942\",\"type\":\"WheelZoomTool\"},{\"attributes\":{\"axis_line_color\":{\"value\":null},\"formatter\":{\"id\":\"7aa32e15-b4da-480e-b0a5-0613b60fc461\",\"type\":\"CategoricalTickFormatter\"},\"major_label_standoff\":0,\"major_label_text_font_size\":{\"value\":\"5pt\"},\"major_tick_line_color\":{\"value\":null},\"plot\":{\"id\":\"26797b70-1744-4c06-9017-c519bdba7bf2\",\"subtype\":\"Figure\",\"type\":\"Plot\"},\"ticker\":{\"id\":\"4846d931-0d0b-4845-b003-6378a579b991\",\"type\":\"CategoricalTicker\"}},\"id\":\"e26d48f7-ae00-4ad7-83b8-6bef65d82668\",\"type\":\"CategoricalAxis\"},{\"attributes\":{\"fill_alpha\":{\"value\":0.1},\"fill_color\":{\"value\":\"#1f77b4\"},\"height\":{\"units\":\"data\",\"value\":1},\"line_alpha\":{\"value\":0.1},\"line_color\":{\"value\":\"#1f77b4\"},\"width\":{\"units\":\"data\",\"value\":1},\"x\":{\"field\":\"Year\"},\"y\":{\"field\":\"Month\"}},\"id\":\"99e38491-9ce9-408b-839c-15ee77422bd3\",\"type\":\"Rect\"},{\"attributes\":{\"axis_line_color\":{\"value\":null},\"formatter\":{\"id\":\"c81c31b8-99e4-4cd3-9b91-6133ada0b3ca\",\"type\":\"CategoricalTickFormatter\"},\"major_label_orientation\":1.2,\"major_label_standoff\":0,\"major_label_text_font_size\":{\"value\":\"5pt\"},\"major_tick_line_color\":{\"value\":null},\"plot\":{\"id\":\"26797b70-1744-4c06-9017-c519bdba7bf2\",\"subtype\":\"Figure\",\"type\":\"Plot\"},\"ticker\":{\"id\":\"441627c1-9b80-470f-b578-f3f8bdc73c2a\",\"type\":\"CategoricalTicker\"}},\"id\":\"9c2caa62-2048-4a9f-abc2-f84f14873f5e\",\"type\":\"CategoricalAxis\"},{\"attributes\":{\"desired_num_ticks\":9},\"id\":\"511e5543-03d7-410a-8a5b-3c02970a32cc\",\"type\":\"BasicTicker\"},{\"attributes\":{},\"id\":\"441627c1-9b80-470f-b578-f3f8bdc73c2a\",\"type\":\"CategoricalTicker\"},{\"attributes\":{\"above\":[{\"id\":\"9c2caa62-2048-4a9f-abc2-f84f14873f5e\",\"type\":\"CategoricalAxis\"}],\"left\":[{\"id\":\"e26d48f7-ae00-4ad7-83b8-6bef65d82668\",\"type\":\"CategoricalAxis\"}],\"plot_height\":400,\"plot_width\":900,\"renderers\":[{\"id\":\"9c2caa62-2048-4a9f-abc2-f84f14873f5e\",\"type\":\"CategoricalAxis\"},{\"id\":\"dd651c44-7eb6-4cbb-a33e-c9923fdc70e8\",\"type\":\"Grid\"},{\"id\":\"e26d48f7-ae00-4ad7-83b8-6bef65d82668\",\"type\":\"CategoricalAxis\"},{\"id\":\"2ae4173e-47c5-48fb-aa17-6eaeaa6795a9\",\"type\":\"Grid\"},{\"id\":\"add5ba2f-a8a4-4a8d-b560-69e97a095de1\",\"type\":\"BoxAnnotation\"},{\"id\":\"6219a210-cf45-4b1f-8d4b-e0314810007f\",\"type\":\"GlyphRenderer\"},{\"id\":\"e9d59e71-c86f-4959-a78a-2fd6086ebbba\",\"type\":\"ColorBar\"}],\"right\":[{\"id\":\"e9d59e71-c86f-4959-a78a-2fd6086ebbba\",\"type\":\"ColorBar\"}],\"title\":{\"id\":\"6e7cd3aa-b771-449f-a730-f186cd3ef130\",\"type\":\"Title\"},\"toolbar\":{\"id\":\"12609dcf-b6c1-4d67-8344-c975ff933f51\",\"type\":\"Toolbar\"},\"toolbar_location\":\"below\",\"x_range\":{\"id\":\"00bbc876-b19d-42f5-97c2-7a6c23162801\",\"type\":\"FactorRange\"},\"x_scale\":{\"id\":\"9cd82b3b-b0b2-45ba-b100-808d4e56f213\",\"type\":\"CategoricalScale\"},\"y_range\":{\"id\":\"b9c3cc46-4444-42e9-a5b9-68ac9836e6d6\",\"type\":\"FactorRange\"},\"y_scale\":{\"id\":\"f02811f4-552d-4345-a6f5-e13f98eeefa4\",\"type\":\"CategoricalScale\"}},\"id\":\"26797b70-1744-4c06-9017-c519bdba7bf2\",\"subtype\":\"Figure\",\"type\":\"Plot\"},{\"attributes\":{\"color_mapper\":{\"id\":\"be58944d-3c8f-4397-961a-bb5f81058c1d\",\"type\":\"LinearColorMapper\"},\"formatter\":{\"id\":\"661f4d49-dbef-440d-b04b-4a31e8c1f3af\",\"type\":\"PrintfTickFormatter\"},\"label_standoff\":6,\"location\":[0,0],\"major_label_text_font_size\":{\"value\":\"5pt\"},\"plot\":{\"id\":\"26797b70-1744-4c06-9017-c519bdba7bf2\",\"subtype\":\"Figure\",\"type\":\"Plot\"},\"ticker\":{\"id\":\"511e5543-03d7-410a-8a5b-3c02970a32cc\",\"type\":\"BasicTicker\"}},\"id\":\"e9d59e71-c86f-4959-a78a-2fd6086ebbba\",\"type\":\"ColorBar\"},{\"attributes\":{\"plot\":{\"id\":\"26797b70-1744-4c06-9017-c519bdba7bf2\",\"subtype\":\"Figure\",\"type\":\"Plot\"},\"ticker\":{\"id\":\"441627c1-9b80-470f-b578-f3f8bdc73c2a\",\"type\":\"CategoricalTicker\"}},\"id\":\"dd651c44-7eb6-4cbb-a33e-c9923fdc70e8\",\"type\":\"Grid\"},{\"attributes\":{\"bottom_units\":\"screen\",\"fill_alpha\":{\"value\":0.5},\"fill_color\":{\"value\":\"lightgrey\"},\"left_units\":\"screen\",\"level\":\"overlay\",\"line_alpha\":{\"value\":1.0},\"line_color\":{\"value\":\"black\"},\"line_dash\":[4,4],\"line_width\":{\"value\":2},\"plot\":null,\"render_mode\":\"css\",\"right_units\":\"screen\",\"top_units\":\"screen\"},\"id\":\"add5ba2f-a8a4-4a8d-b560-69e97a095de1\",\"type\":\"BoxAnnotation\"}],\"root_ids\":[\"26797b70-1744-4c06-9017-c519bdba7bf2\"]},\"title\":\"Bokeh Application\",\"version\":\"0.12.15\"}};\n",
       "  var render_items = [{\"docid\":\"e23884ae-8108-4bff-b52d-6f60974dea19\",\"elementid\":\"fad6302e-129b-4d58-8a08-55013264fb73\",\"modelid\":\"26797b70-1744-4c06-9017-c519bdba7bf2\"}];\n",
       "  root.Bokeh.embed.embed_items_notebook(docs_json, render_items);\n",
       "\n",
       "  }\n",
       "  if (root.Bokeh !== undefined) {\n",
       "    embed_document(root);\n",
       "  } else {\n",
       "    var attempts = 0;\n",
       "    var timer = setInterval(function(root) {\n",
       "      if (root.Bokeh !== undefined) {\n",
       "        embed_document(root);\n",
       "        clearInterval(timer);\n",
       "      }\n",
       "      attempts++;\n",
       "      if (attempts > 100) {\n",
       "        console.log(\"Bokeh: ERROR: Unable to run BokehJS code because BokehJS library is missing\")\n",
       "        clearInterval(timer);\n",
       "      }\n",
       "    }, 10, root)\n",
       "  }\n",
       "})(window);"
      ],
      "application/vnd.bokehjs_exec.v0+json": ""
     },
     "metadata": {
      "application/vnd.bokehjs_exec.v0+json": {
       "id": "26797b70-1744-4c06-9017-c519bdba7bf2"
      }
     },
     "output_type": "display_data"
    }
   ],
   "source": [
    "# Heatmap\n",
    "data_h = data.groupby(['Year','Month'])['IncidntNum'].sum().reset_index()\n",
    "data_h['Year'] = data_h['Year'].astype(str)\n",
    "data_h['Month'] = data_h['Month'].astype(str)\n",
    "\n",
    "years = list(data_h.Year.unique())\n",
    "months = list(data_h.Month.unique())\n",
    "\n",
    "colors = YlOrRd[9]\n",
    "mapper = LinearColorMapper(palette=YlOrRd[9][::-1], low=data_h.IncidntNum.min(), high=data_h.IncidntNum.max())\n",
    "\n",
    "source = ColumnDataSource(data_h)\n",
    "\n",
    "TOOLS = \"hover,save,pan,box_zoom,reset,wheel_zoom\"\n",
    "\n",
    "p = figure(title=\"San Francisco Property Crime ({0} - {1})\".format(years[0], years[-1]),\n",
    "           x_range=years, y_range=list(reversed(months)),\n",
    "           x_axis_location=\"above\", plot_width=900, plot_height=400,\n",
    "           tools=TOOLS, toolbar_location='below')\n",
    "\n",
    "p.axis.axis_line_color = None\n",
    "p.axis.major_tick_line_color = None\n",
    "p.axis.major_label_text_font_size = \"5pt\"\n",
    "p.axis.major_label_standoff = 0\n",
    "p.xaxis.major_label_orientation = 1.2\n",
    "\n",
    "p.rect(x=\"Year\", y=\"Month\", width=1, height=1,\n",
    "       source=source,\n",
    "       fill_color={'field': 'IncidntNum', 'transform': mapper},\n",
    "       line_color=None)\n",
    "\n",
    "color_bar = ColorBar(color_mapper=mapper, major_label_text_font_size=\"5pt\",\n",
    "                     ticker=BasicTicker(desired_num_ticks=len(colors)),\n",
    "                     formatter=PrintfTickFormatter(format=\"%d%%\"),\n",
    "                     label_standoff=6, border_line_color=None, location=(0, 0))\n",
    "p.add_layout(color_bar, 'right')\n",
    "\n",
    "p.select_one(HoverTool).tooltips = [\n",
    "     ('date', '@Month @Year'),\n",
    "     ('Number of Incident', '@IncidntNum'),\n",
    "]\n",
    "\n",
    "show(p)"
   ]
  },
  {
   "cell_type": "markdown",
   "metadata": {},
   "source": [
    "According to the heatmap, it is clear to see that the crime rate is at the lowest point in around 2010, and reaches the highest point in May, June and July of 2015."
   ]
  },
  {
   "cell_type": "markdown",
   "metadata": {},
   "source": [
    "Then one may be interested in the overall trend of crime rate in San Francisco. A line chart can be used to visualize this. "
   ]
  },
  {
   "cell_type": "code",
   "execution_count": 5,
   "metadata": {
    "scrolled": false
   },
   "outputs": [
    {
     "data": {
      "text/html": [
       "\n",
       "<div class=\"bk-root\">\n",
       "    <div class=\"bk-plotdiv\" id=\"4890fe70-d71c-472f-9845-f1e400fb7e38\"></div>\n",
       "</div>"
      ]
     },
     "metadata": {},
     "output_type": "display_data"
    },
    {
     "data": {
      "application/javascript": [
       "(function(root) {\n",
       "  function embed_document(root) {\n",
       "    \n",
       "  var docs_json = {\"a5b074e3-730f-4e6a-b7af-1af63fb63c8b\":{\"roots\":{\"references\":[{\"attributes\":{\"bottom_units\":\"screen\",\"fill_alpha\":{\"value\":0.5},\"fill_color\":{\"value\":\"lightgrey\"},\"left_units\":\"screen\",\"level\":\"overlay\",\"line_alpha\":{\"value\":1.0},\"line_color\":{\"value\":\"black\"},\"line_dash\":[4,4],\"line_width\":{\"value\":2},\"plot\":null,\"render_mode\":\"css\",\"right_units\":\"screen\",\"top_units\":\"screen\"},\"id\":\"37e9efc2-c536-4307-a0bb-3cd6e7dd8778\",\"type\":\"BoxAnnotation\"},{\"attributes\":{\"callback\":null},\"id\":\"1cdc003a-969f-4368-baa1-2ba996eb9a18\",\"type\":\"DataRange1d\"},{\"attributes\":{},\"id\":\"7975a436-3130-4cea-b4c1-efe891764b99\",\"type\":\"LinearScale\"},{\"attributes\":{\"axis_label\":\"Number of Crime\",\"formatter\":{\"id\":\"16c51b39-c0a6-4caa-9d2c-88eb1d97c5c4\",\"type\":\"BasicTickFormatter\"},\"plot\":{\"id\":\"73becbba-5871-4dc6-8334-0e811873b3f9\",\"subtype\":\"Figure\",\"type\":\"Plot\"},\"ticker\":{\"id\":\"2c70ce6a-58ec-49b1-b866-fdb88bd916af\",\"type\":\"BasicTicker\"}},\"id\":\"2f54b2ab-4d19-4594-a1f8-bce8b3c350d6\",\"type\":\"LinearAxis\"},{\"attributes\":{},\"id\":\"fde44e62-10b2-4f20-a006-75ed7758cc6e\",\"type\":\"LinearScale\"},{\"attributes\":{\"num_minor_ticks\":5,\"tickers\":[{\"id\":\"5ebae066-1daa-492e-8644-c8621b5b33d8\",\"type\":\"AdaptiveTicker\"},{\"id\":\"8c16028a-df3b-471d-9406-1416a69ac54f\",\"type\":\"AdaptiveTicker\"},{\"id\":\"3c26acff-de7e-49ea-99db-fc437a20f496\",\"type\":\"AdaptiveTicker\"},{\"id\":\"99b0e495-baa1-47c9-9ca8-9f05d97776cc\",\"type\":\"DaysTicker\"},{\"id\":\"d69e042c-33a6-4523-a7ec-39a875718852\",\"type\":\"DaysTicker\"},{\"id\":\"37df1059-e9ec-4f4e-aca9-1dd090f47313\",\"type\":\"DaysTicker\"},{\"id\":\"5a8da561-fbd4-4010-9fbe-68a484c06f9e\",\"type\":\"DaysTicker\"},{\"id\":\"09e91ae7-4618-41bb-8aaa-b2c0cd7db5c9\",\"type\":\"MonthsTicker\"},{\"id\":\"94a95f38-162c-4e70-a7f3-a1172616558f\",\"type\":\"MonthsTicker\"},{\"id\":\"bf8d9306-5c1f-4bd7-a7d7-4a63b0846c14\",\"type\":\"MonthsTicker\"},{\"id\":\"ef0f679b-e0be-43b0-ad7b-aed4ade29d1a\",\"type\":\"MonthsTicker\"},{\"id\":\"6a04af0c-8c2a-4460-9c11-8047f399479a\",\"type\":\"YearsTicker\"}]},\"id\":\"3e329ba2-cc13-448c-b673-758bc7c89338\",\"type\":\"DatetimeTicker\"},{\"attributes\":{\"mantissas\":[1,2,5],\"max_interval\":500.0,\"num_minor_ticks\":0},\"id\":\"5ebae066-1daa-492e-8644-c8621b5b33d8\",\"type\":\"AdaptiveTicker\"},{\"attributes\":{\"active_drag\":\"auto\",\"active_inspect\":\"auto\",\"active_scroll\":\"auto\",\"active_tap\":\"auto\",\"tools\":[{\"id\":\"19d8612e-59d5-4806-821d-53274d5531f5\",\"type\":\"PanTool\"},{\"id\":\"2b76d7e8-cfd3-48d8-8d8d-9f5c8890f122\",\"type\":\"WheelZoomTool\"},{\"id\":\"1ca63247-ddba-47e8-be19-960798352116\",\"type\":\"BoxZoomTool\"},{\"id\":\"b692b430-a077-47b9-b4ef-929cd0f9174b\",\"type\":\"SaveTool\"},{\"id\":\"f0758916-1ad3-49cb-99da-8e4b6826a8f6\",\"type\":\"ResetTool\"},{\"id\":\"541bcf10-99b5-491b-912b-07ae4d3aa570\",\"type\":\"HelpTool\"}]},\"id\":\"36baeabf-d83e-402b-a34a-5907be9fcc19\",\"type\":\"Toolbar\"},{\"attributes\":{},\"id\":\"16c51b39-c0a6-4caa-9d2c-88eb1d97c5c4\",\"type\":\"BasicTickFormatter\"},{\"attributes\":{\"callback\":null},\"id\":\"747780ec-45b8-467b-80f9-7dc3fdcf5d17\",\"type\":\"DataRange1d\"},{\"attributes\":{\"below\":[{\"id\":\"6acc1967-b802-4327-9674-0a8bb2d8a751\",\"type\":\"DatetimeAxis\"}],\"left\":[{\"id\":\"2f54b2ab-4d19-4594-a1f8-bce8b3c350d6\",\"type\":\"LinearAxis\"}],\"plot_width\":800,\"renderers\":[{\"id\":\"6acc1967-b802-4327-9674-0a8bb2d8a751\",\"type\":\"DatetimeAxis\"},{\"id\":\"cf59b0e8-0da2-4ad7-88ae-ce16c5af1e15\",\"type\":\"Grid\"},{\"id\":\"2f54b2ab-4d19-4594-a1f8-bce8b3c350d6\",\"type\":\"LinearAxis\"},{\"id\":\"9a6410c5-307c-41d9-bc6d-31be95091ada\",\"type\":\"Grid\"},{\"id\":\"37e9efc2-c536-4307-a0bb-3cd6e7dd8778\",\"type\":\"BoxAnnotation\"},{\"id\":\"abad88cc-b5ff-4397-bb36-599d80191d58\",\"type\":\"GlyphRenderer\"}],\"title\":{\"id\":\"4cd58d0c-c1af-4998-9c1e-eb72bf9f625c\",\"type\":\"Title\"},\"toolbar\":{\"id\":\"36baeabf-d83e-402b-a34a-5907be9fcc19\",\"type\":\"Toolbar\"},\"x_range\":{\"id\":\"1cdc003a-969f-4368-baa1-2ba996eb9a18\",\"type\":\"DataRange1d\"},\"x_scale\":{\"id\":\"fde44e62-10b2-4f20-a006-75ed7758cc6e\",\"type\":\"LinearScale\"},\"y_range\":{\"id\":\"747780ec-45b8-467b-80f9-7dc3fdcf5d17\",\"type\":\"DataRange1d\"},\"y_scale\":{\"id\":\"7975a436-3130-4cea-b4c1-efe891764b99\",\"type\":\"LinearScale\"}},\"id\":\"73becbba-5871-4dc6-8334-0e811873b3f9\",\"subtype\":\"Figure\",\"type\":\"Plot\"},{\"attributes\":{\"dimension\":1,\"grid_line_alpha\":{\"value\":0.3},\"plot\":{\"id\":\"73becbba-5871-4dc6-8334-0e811873b3f9\",\"subtype\":\"Figure\",\"type\":\"Plot\"},\"ticker\":{\"id\":\"2c70ce6a-58ec-49b1-b866-fdb88bd916af\",\"type\":\"BasicTicker\"}},\"id\":\"9a6410c5-307c-41d9-bc6d-31be95091ada\",\"type\":\"Grid\"},{\"attributes\":{},\"id\":\"541bcf10-99b5-491b-912b-07ae4d3aa570\",\"type\":\"HelpTool\"},{\"attributes\":{},\"id\":\"f0758916-1ad3-49cb-99da-8e4b6826a8f6\",\"type\":\"ResetTool\"},{\"attributes\":{},\"id\":\"19d8612e-59d5-4806-821d-53274d5531f5\",\"type\":\"PanTool\"},{\"attributes\":{\"overlay\":{\"id\":\"37e9efc2-c536-4307-a0bb-3cd6e7dd8778\",\"type\":\"BoxAnnotation\"}},\"id\":\"1ca63247-ddba-47e8-be19-960798352116\",\"type\":\"BoxZoomTool\"},{\"attributes\":{\"source\":{\"id\":\"c4ae7141-cb2c-4cf5-bc75-2cb6a078f479\",\"type\":\"ColumnDataSource\"}},\"id\":\"3c8efbfc-efd9-4465-b44c-83a91150700e\",\"type\":\"CDSView\"},{\"attributes\":{\"base\":60,\"mantissas\":[1,2,5,10,15,20,30],\"max_interval\":1800000.0,\"min_interval\":1000.0,\"num_minor_ticks\":0},\"id\":\"8c16028a-df3b-471d-9406-1416a69ac54f\",\"type\":\"AdaptiveTicker\"},{\"attributes\":{\"months\":[0,1,2,3,4,5,6,7,8,9,10,11]},\"id\":\"09e91ae7-4618-41bb-8aaa-b2c0cd7db5c9\",\"type\":\"MonthsTicker\"},{\"attributes\":{},\"id\":\"2b76d7e8-cfd3-48d8-8d8d-9f5c8890f122\",\"type\":\"WheelZoomTool\"},{\"attributes\":{\"days\":[1,15]},\"id\":\"5a8da561-fbd4-4010-9fbe-68a484c06f9e\",\"type\":\"DaysTicker\"},{\"attributes\":{},\"id\":\"b692b430-a077-47b9-b4ef-929cd0f9174b\",\"type\":\"SaveTool\"},{\"attributes\":{\"days\":[1,2,3,4,5,6,7,8,9,10,11,12,13,14,15,16,17,18,19,20,21,22,23,24,25,26,27,28,29,30,31]},\"id\":\"99b0e495-baa1-47c9-9ca8-9f05d97776cc\",\"type\":\"DaysTicker\"},{\"attributes\":{\"plot\":null,\"text\":\"Monthly Property Crime\"},\"id\":\"4cd58d0c-c1af-4998-9c1e-eb72bf9f625c\",\"type\":\"Title\"},{\"attributes\":{\"months\":[0,2,4,6,8,10]},\"id\":\"94a95f38-162c-4e70-a7f3-a1172616558f\",\"type\":\"MonthsTicker\"},{\"attributes\":{\"months\":[0,4,8]},\"id\":\"bf8d9306-5c1f-4bd7-a7d7-4a63b0846c14\",\"type\":\"MonthsTicker\"},{\"attributes\":{\"days\":[1,4,7,10,13,16,19,22,25,28]},\"id\":\"d69e042c-33a6-4523-a7ec-39a875718852\",\"type\":\"DaysTicker\"},{\"attributes\":{},\"id\":\"150f59b8-4ec4-47ca-8a2d-7e190f922d3c\",\"type\":\"DatetimeTickFormatter\"},{\"attributes\":{\"days\":[1,8,15,22]},\"id\":\"37df1059-e9ec-4f4e-aca9-1dd090f47313\",\"type\":\"DaysTicker\"},{\"attributes\":{},\"id\":\"6a04af0c-8c2a-4460-9c11-8047f399479a\",\"type\":\"YearsTicker\"},{\"attributes\":{\"months\":[0,6]},\"id\":\"ef0f679b-e0be-43b0-ad7b-aed4ade29d1a\",\"type\":\"MonthsTicker\"},{\"attributes\":{\"axis_label\":\"Date\",\"formatter\":{\"id\":\"150f59b8-4ec4-47ca-8a2d-7e190f922d3c\",\"type\":\"DatetimeTickFormatter\"},\"plot\":{\"id\":\"73becbba-5871-4dc6-8334-0e811873b3f9\",\"subtype\":\"Figure\",\"type\":\"Plot\"},\"ticker\":{\"id\":\"3e329ba2-cc13-448c-b673-758bc7c89338\",\"type\":\"DatetimeTicker\"}},\"id\":\"6acc1967-b802-4327-9674-0a8bb2d8a751\",\"type\":\"DatetimeAxis\"},{\"attributes\":{\"callback\":null,\"column_names\":[\"x\",\"y\"],\"data\":{\"x\":{\"__ndarray__\":\"AAAAJLkScEIAAEB2sxxwQgAAQJe2JXBCAACA6bAvcEIAAADWWDlwQgAAQChTQ3BCAADAFPtMcEIAAABn9VZwQgAAQLnvYHBCAADApZdqcEIAAAD4kXRwQgAAgOQ5fnBCAADANjSIcEIAAACJLpJwQgAAAKoxm3BCAABA/CulcEIAAMDo065wQgAAADvOuHBCAACAJ3bCcEIAAMB5cMxwQgAAAMxq1nBCAACAuBLgcEIAAMAKDepwQgAAQPe083BCAACASa/9cEIAAMCbqQdxQgAAwLysEHFCAAAAD6cacUIAAID7TiRxQgAAwE1JLnFCAABAOvE3cUIAAICM60FxQgAAwN7lS3FCAABAy41VcUIAAIAdiF9xQgAAAAowaXFCAABAXCpzcUIAAICuJH1xQgAAQDV6hnFCAACAh3SQcUIAAAB0HJpxQgAAQMYWpHFCAADAsr6tcUIAAAAFubdxQgAAQFezwXFCAADAQ1vLcUIAAACWVdVxQgAAgIL93nFCAADA1PfocUIAAAAn8vJxQgAAAEj1+3FCAABAmu8FckIAAMCGlw9yQgAAANmRGXJCAACAxTkjckIAAMAXNC1yQgAAAGouN3JCAACAVtZAckIAAMCo0EpyQgAAQJV4VHJCAACA53JeckIAAMA5bWhyQgAAwFpwcXJCAAAArWp7ckIAAICZEoVyQgAAwOsMj3JCAABA2LSYckIAAIAqr6JyQgAAwHyprHJCAABAaVG2ckIAAIC7S8ByQgAAAKjzyXJCAABA+u3TckIAAIBM6N1yQgAAgG3r5nJCAADAv+XwckIAAECsjfpyQgAAgP6HBHNCAAAA6y8Oc0IAAEA9KhhzQgAAgI8kInNCAAAAfMwrc0IAAEDOxjVzQgAAwLpuP3NCAAAADWlJc0IAAEBfY1NzQgAAAOa4XHNCAABAOLNmc0IAAMAkW3BzQgAAAHdVenNCAACAY/2Dc0IAAMC1941zQgAAAAjyl3NCAACA9Jmhc0IAAMBGlKtzQgAAQDM8tXNCAACAhTa/c0IAAMDXMMlzQgAAwPgz0nNCAAAASy7cc0IAAIA31uVzQgAAwInQ73NCAABAdnj5c0IAAIDIcgN0QgAAwBptDXRCAABABxUXdEIAAIBZDyF0QgAAAEa3KnRCAABAmLE0dEIAAIDqqz50QgAAgAuvR3RCAADAXalRdEIAAEBKUVt0QgAAgJxLZXRCAAAAifNudEIAAEDb7Xh0QgAAgC3ognRCAAAAGpCMdEIAAEBsipZ0QgAAwFgyoHRCAAAAqyyqdEIAAED9JrR0QgAAQB4qvXRCAACAcCTHdEIAAABdzNB0QgAAQK/G2nRCAADAm27kdEIAAADuaO50QgAAQEBj+HRCAADALAsCdUIAAAB/BQx1QgAAgGutFXVC\",\"dtype\":\"float64\",\"shape\":[132]},\"y\":[4991,4166,4815,4711,5120,4918,5143,5092,4770,5191,4862,4589,4167,3825,4177,4412,4270,4188,4259,4511,4171,4261,3903,4006,3720,3067,3747,3582,3643,3851,4482,4296,4188,4129,3715,3603,3805,3338,3944,4027,3831,3467,3818,3818,4010,4282,3713,3594,3540,3186,3858,3667,3450,3291,4001,4239,3925,3915,3790,3771,3688,3078,3355,3311,3495,3577,3659,3855,3721,3654,3668,3520,3655,3222,3856,3534,3676,3434,3415,3644,3608,3934,3798,4109,3809,3741,3768,4073,4254,4197,4459,4732,4808,5202,4789,4547,4668,4215,4613,4607,4355,4380,5074,5300,5638,5190,4629,4572,4771,4164,4826,4886,4650,4477,5065,5518,4921,5652,5242,5507,5555,4945,5750,5394,6009,5741,5885,5651,5294,5222,4692,4749]},\"selected\":null,\"selection_policy\":null},\"id\":\"c4ae7141-cb2c-4cf5-bc75-2cb6a078f479\",\"type\":\"ColumnDataSource\"},{\"attributes\":{\"base\":24,\"mantissas\":[1,2,4,6,8,12],\"max_interval\":43200000.0,\"min_interval\":3600000.0,\"num_minor_ticks\":0},\"id\":\"3c26acff-de7e-49ea-99db-fc437a20f496\",\"type\":\"AdaptiveTicker\"},{\"attributes\":{\"data_source\":{\"id\":\"c4ae7141-cb2c-4cf5-bc75-2cb6a078f479\",\"type\":\"ColumnDataSource\"},\"glyph\":{\"id\":\"8526c7a9-5bc6-4679-a004-d2e57d55b6e7\",\"type\":\"Line\"},\"hover_glyph\":null,\"muted_glyph\":null,\"nonselection_glyph\":{\"id\":\"c8e8880e-ed91-4397-8ede-6c1288b47cac\",\"type\":\"Line\"},\"selection_glyph\":null,\"view\":{\"id\":\"3c8efbfc-efd9-4465-b44c-83a91150700e\",\"type\":\"CDSView\"}},\"id\":\"abad88cc-b5ff-4397-bb36-599d80191d58\",\"type\":\"GlyphRenderer\"},{\"attributes\":{\"line_alpha\":0.1,\"line_color\":\"#1f77b4\",\"x\":{\"field\":\"x\"},\"y\":{\"field\":\"y\"}},\"id\":\"c8e8880e-ed91-4397-8ede-6c1288b47cac\",\"type\":\"Line\"},{\"attributes\":{},\"id\":\"2c70ce6a-58ec-49b1-b866-fdb88bd916af\",\"type\":\"BasicTicker\"},{\"attributes\":{\"line_color\":\"#A6CEE3\",\"x\":{\"field\":\"x\"},\"y\":{\"field\":\"y\"}},\"id\":\"8526c7a9-5bc6-4679-a004-d2e57d55b6e7\",\"type\":\"Line\"},{\"attributes\":{\"grid_line_alpha\":{\"value\":0.3},\"plot\":{\"id\":\"73becbba-5871-4dc6-8334-0e811873b3f9\",\"subtype\":\"Figure\",\"type\":\"Plot\"},\"ticker\":{\"id\":\"3e329ba2-cc13-448c-b673-758bc7c89338\",\"type\":\"DatetimeTicker\"}},\"id\":\"cf59b0e8-0da2-4ad7-88ae-ce16c5af1e15\",\"type\":\"Grid\"}],\"root_ids\":[\"73becbba-5871-4dc6-8334-0e811873b3f9\"]},\"title\":\"Bokeh Application\",\"version\":\"0.12.15\"}};\n",
       "  var render_items = [{\"docid\":\"a5b074e3-730f-4e6a-b7af-1af63fb63c8b\",\"elementid\":\"4890fe70-d71c-472f-9845-f1e400fb7e38\",\"modelid\":\"73becbba-5871-4dc6-8334-0e811873b3f9\"}];\n",
       "  root.Bokeh.embed.embed_items_notebook(docs_json, render_items);\n",
       "\n",
       "  }\n",
       "  if (root.Bokeh !== undefined) {\n",
       "    embed_document(root);\n",
       "  } else {\n",
       "    var attempts = 0;\n",
       "    var timer = setInterval(function(root) {\n",
       "      if (root.Bokeh !== undefined) {\n",
       "        embed_document(root);\n",
       "        clearInterval(timer);\n",
       "      }\n",
       "      attempts++;\n",
       "      if (attempts > 100) {\n",
       "        console.log(\"Bokeh: ERROR: Unable to run BokehJS code because BokehJS library is missing\")\n",
       "        clearInterval(timer);\n",
       "      }\n",
       "    }, 10, root)\n",
       "  }\n",
       "})(window);"
      ],
      "application/vnd.bokehjs_exec.v0+json": ""
     },
     "metadata": {
      "application/vnd.bokehjs_exec.v0+json": {
       "id": "73becbba-5871-4dc6-8334-0e811873b3f9"
      }
     },
     "output_type": "display_data"
    }
   ],
   "source": [
    "# Line Chart\n",
    "sum_data = pd.DataFrame(data.groupby('Date')['IncidntNum'].sum()).reset_index()\n",
    "p1 = figure(x_axis_type=\"datetime\", title=\"Monthly Property Crime\", plot_width=800,plot_height=600)\n",
    "p1.grid.grid_line_alpha=0.3\n",
    "p1.xaxis.axis_label = 'Date'\n",
    "p1.yaxis.axis_label = 'Number of Crime'\n",
    "\n",
    "p1.line(sum_data['Date'], sum_data['IncidntNum'], color='#A6CEE3')\n",
    "\n",
    "show(p1)"
   ]
  },
  {
   "cell_type": "markdown",
   "metadata": {},
   "source": [
    "According to the diagram, one can see that the number of monthly property crime decreased from 2006 to 2010, and then increased after 2010. "
   ]
  },
  {
   "cell_type": "markdown",
   "metadata": {},
   "source": [
    "Besides the trend of overall property crime, one also need to know the trends for different types of crimes respectively. A multiple line chart can be used to visualize this. "
   ]
  },
  {
   "cell_type": "code",
   "execution_count": 6,
   "metadata": {},
   "outputs": [
    {
     "data": {
      "text/plain": [
       "array(['BURGLARY', 'VANDALISM', 'LARCENY/THEFT', 'VEHICLE THEFT',\n",
       "       'STOLEN PROPERTY', 'ARSON'], dtype=object)"
      ]
     },
     "execution_count": 6,
     "metadata": {},
     "output_type": "execute_result"
    }
   ],
   "source": [
    "data.Category.unique()"
   ]
  },
  {
   "cell_type": "code",
   "execution_count": 7,
   "metadata": {},
   "outputs": [
    {
     "data": {
      "text/html": [
       "\n",
       "<div class=\"bk-root\">\n",
       "    <div class=\"bk-plotdiv\" id=\"62a2a8a3-10ae-4ed1-a0e4-4b2db83c3645\"></div>\n",
       "</div>"
      ]
     },
     "metadata": {},
     "output_type": "display_data"
    },
    {
     "data": {
      "application/javascript": [
       "(function(root) {\n",
       "  function embed_document(root) {\n",
       "    \n",
       "  var docs_json = {\"72562448-a08e-47b3-88d2-8f646330565c\":{\"roots\":{\"references\":[{\"attributes\":{\"data_source\":{\"id\":\"c1de8039-db94-4b22-88d4-c0876d08fdc8\",\"type\":\"ColumnDataSource\"},\"glyph\":{\"id\":\"8696d42d-5250-47bd-b1b8-34c9ff9054ec\",\"type\":\"Line\"},\"hover_glyph\":null,\"muted_glyph\":null,\"nonselection_glyph\":{\"id\":\"55a6cd0e-5205-4106-abd8-f8bf90ca5b10\",\"type\":\"Line\"},\"selection_glyph\":null,\"view\":{\"id\":\"40f2b674-d206-4bf2-878c-9f81780be2cf\",\"type\":\"CDSView\"}},\"id\":\"b18fbcad-96ed-48ee-8688-0ec12ba0cd85\",\"type\":\"GlyphRenderer\"},{\"attributes\":{},\"id\":\"96022910-1f1c-4c8c-9f2e-48db2e954565\",\"type\":\"LinearScale\"},{\"attributes\":{\"source\":{\"id\":\"c1de8039-db94-4b22-88d4-c0876d08fdc8\",\"type\":\"ColumnDataSource\"}},\"id\":\"40f2b674-d206-4bf2-878c-9f81780be2cf\",\"type\":\"CDSView\"},{\"attributes\":{\"items\":[{\"id\":\"7af3fbfa-ce35-493d-b4e3-c4ae313a3af0\",\"type\":\"LegendItem\"},{\"id\":\"c1bc7ac8-9368-4be4-ae80-4aa190236c3f\",\"type\":\"LegendItem\"},{\"id\":\"de47105e-99bf-4c3b-805e-61b3d1ad80d1\",\"type\":\"LegendItem\"},{\"id\":\"6be97a3f-d683-4b60-a283-0caf5f5316aa\",\"type\":\"LegendItem\"},{\"id\":\"cbd8a2df-ed9a-4c82-a63a-71bc92e3b8cd\",\"type\":\"LegendItem\"},{\"id\":\"48b2d63d-5730-4435-89b8-73c91542e747\",\"type\":\"LegendItem\"}],\"label_text_font_size\":{\"value\":\"7pt\"},\"location\":\"top_left\",\"plot\":{\"id\":\"f7ec82cd-b772-4922-ae7d-fceee322be26\",\"subtype\":\"Figure\",\"type\":\"Plot\"}},\"id\":\"cc3becfd-3301-400b-91de-6bebac8502f6\",\"type\":\"Legend\"},{\"attributes\":{\"label\":{\"value\":\"STOLEN PROPERTY\"},\"renderers\":[{\"id\":\"b18fbcad-96ed-48ee-8688-0ec12ba0cd85\",\"type\":\"GlyphRenderer\"}]},\"id\":\"cbd8a2df-ed9a-4c82-a63a-71bc92e3b8cd\",\"type\":\"LegendItem\"},{\"attributes\":{\"source\":{\"id\":\"9f458693-35fd-4574-983d-1818bf8c8807\",\"type\":\"ColumnDataSource\"}},\"id\":\"3a505286-ddd2-442e-8209-a74f55c18673\",\"type\":\"CDSView\"},{\"attributes\":{\"callback\":null,\"column_names\":[\"x\",\"y\"],\"data\":{\"x\":{\"__ndarray__\":\"AAAAJLkScEIAAEB2sxxwQgAAQJe2JXBCAACA6bAvcEIAAADWWDlwQgAAQChTQ3BCAADAFPtMcEIAAABn9VZwQgAAQLnvYHBCAADApZdqcEIAAAD4kXRwQgAAgOQ5fnBCAADANjSIcEIAAACJLpJwQgAAAKoxm3BCAABA/CulcEIAAMDo065wQgAAADvOuHBCAACAJ3bCcEIAAMB5cMxwQgAAAMxq1nBCAACAuBLgcEIAAMAKDepwQgAAQPe083BCAACASa/9cEIAAMCbqQdxQgAAwLysEHFCAAAAD6cacUIAAID7TiRxQgAAwE1JLnFCAABAOvE3cUIAAICM60FxQgAAwN7lS3FCAABAy41VcUIAAIAdiF9xQgAAAAowaXFCAABAXCpzcUIAAICuJH1xQgAAQDV6hnFCAACAh3SQcUIAAAB0HJpxQgAAQMYWpHFCAADAsr6tcUIAAAAFubdxQgAAQFezwXFCAADAQ1vLcUIAAACWVdVxQgAAgIL93nFCAADA1PfocUIAAAAn8vJxQgAAAEj1+3FCAABAmu8FckIAAMCGlw9yQgAAANmRGXJCAACAxTkjckIAAMAXNC1yQgAAAGouN3JCAACAVtZAckIAAMCo0EpyQgAAQJV4VHJCAACA53JeckIAAMA5bWhyQgAAwFpwcXJCAAAArWp7ckIAAICZEoVyQgAAwOsMj3JCAABA2LSYckIAAIAqr6JyQgAAwHyprHJCAABAaVG2ckIAAIC7S8ByQgAAAKjzyXJCAABA+u3TckIAAIBM6N1yQgAAgG3r5nJCAADAv+XwckIAAECsjfpyQgAAgP6HBHNCAAAA6y8Oc0IAAEA9KhhzQgAAgI8kInNCAAAAfMwrc0IAAEDOxjVzQgAAwLpuP3NCAAAADWlJc0IAAEBfY1NzQgAAAOa4XHNCAABAOLNmc0IAAMAkW3BzQgAAAHdVenNCAACAY/2Dc0IAAMC1941zQgAAAAjyl3NCAACA9Jmhc0IAAMBGlKtzQgAAQDM8tXNCAACAhTa/c0IAAMDXMMlzQgAAwPgz0nNCAAAASy7cc0IAAIA31uVzQgAAwInQ73NCAABAdnj5c0IAAIDIcgN0QgAAwBptDXRCAABABxUXdEIAAIBZDyF0QgAAAEa3KnRCAABAmLE0dEIAAIDqqz50QgAAgAuvR3RCAADAXalRdEIAAEBKUVt0QgAAgJxLZXRCAAAAifNudEIAAEDb7Xh0QgAAgC3ognRCAAAAGpCMdEIAAEBsipZ0QgAAwFgyoHRCAAAAqyyqdEIAAED9JrR0QgAAQB4qvXRCAACAcCTHdEIAAABdzNB0QgAAQK/G2nRCAADAm27kdEIAAADuaO50QgAAQEBj+HRCAADALAsCdUIAAAB/BQx1QgAAgGutFXVC\",\"dtype\":\"float64\",\"shape\":[132]},\"y\":[21,17,19,24,13,23,23,20,17,18,19,17,24,13,16,19,27,14,24,24,27,27,11,14,23,12,17,20,29,21,29,16,27,18,23,11,16,12,34,20,18,20,21,24,28,18,20,17,20,17,16,18,17,15,30,19,18,14,25,13,19,9,19,16,21,22,18,22,19,21,17,6,25,19,11,23,14,13,20,17,18,14,17,12,29,16,12,18,17,21,25,17,25,18,18,21,37,23,22,11,19,20,25,17,19,21,24,10,32,22,13,18,15,25,20,20,14,24,28,22,41,31,21,30,30,31,23,16,16,28,25,19]},\"selected\":null,\"selection_policy\":null},\"id\":\"9f458693-35fd-4574-983d-1818bf8c8807\",\"type\":\"ColumnDataSource\"},{\"attributes\":{\"data_source\":{\"id\":\"9f458693-35fd-4574-983d-1818bf8c8807\",\"type\":\"ColumnDataSource\"},\"glyph\":{\"id\":\"6405828a-8b20-46e0-99ab-9534cfcee0bc\",\"type\":\"Line\"},\"hover_glyph\":null,\"muted_glyph\":null,\"nonselection_glyph\":{\"id\":\"eb12fc07-8fb4-4ea0-aab6-2b0410010388\",\"type\":\"Line\"},\"selection_glyph\":null,\"view\":{\"id\":\"3a505286-ddd2-442e-8209-a74f55c18673\",\"type\":\"CDSView\"}},\"id\":\"4f014a98-de10-41ca-9b59-1107f9befbf0\",\"type\":\"GlyphRenderer\"},{\"attributes\":{\"label\":{\"value\":\"BURGLARY\"},\"renderers\":[{\"id\":\"5bd80ae3-3e25-46ad-b11d-5f75620b4a40\",\"type\":\"GlyphRenderer\"}]},\"id\":\"7af3fbfa-ce35-493d-b4e3-c4ae313a3af0\",\"type\":\"LegendItem\"},{\"attributes\":{\"line_color\":\"purple\",\"x\":{\"field\":\"x\"},\"y\":{\"field\":\"y\"}},\"id\":\"6405828a-8b20-46e0-99ab-9534cfcee0bc\",\"type\":\"Line\"},{\"attributes\":{\"line_alpha\":0.1,\"line_color\":\"#1f77b4\",\"x\":{\"field\":\"x\"},\"y\":{\"field\":\"y\"}},\"id\":\"eb12fc07-8fb4-4ea0-aab6-2b0410010388\",\"type\":\"Line\"},{\"attributes\":{\"line_alpha\":0.1,\"line_color\":\"#1f77b4\",\"x\":{\"field\":\"x\"},\"y\":{\"field\":\"y\"}},\"id\":\"b53362e8-9f59-485d-a5cc-2fa41956ab0c\",\"type\":\"Line\"},{\"attributes\":{\"label\":{\"value\":\"ARSON\"},\"renderers\":[{\"id\":\"4f014a98-de10-41ca-9b59-1107f9befbf0\",\"type\":\"GlyphRenderer\"}]},\"id\":\"48b2d63d-5730-4435-89b8-73c91542e747\",\"type\":\"LegendItem\"},{\"attributes\":{\"callback\":null},\"id\":\"e28e54fb-4b5d-46f0-93b6-3e88e19ecb87\",\"type\":\"DataRange1d\"},{\"attributes\":{},\"id\":\"3c7fa6ea-546b-486d-837b-aaf1988207d0\",\"type\":\"LinearScale\"},{\"attributes\":{\"grid_line_alpha\":{\"value\":0.3},\"plot\":{\"id\":\"f7ec82cd-b772-4922-ae7d-fceee322be26\",\"subtype\":\"Figure\",\"type\":\"Plot\"},\"ticker\":{\"id\":\"8800c5bd-687c-49d6-80cf-7019c0bbf618\",\"type\":\"DatetimeTicker\"}},\"id\":\"df57b37e-57c4-41b6-b296-b2e58fe07a62\",\"type\":\"Grid\"},{\"attributes\":{\"axis_label\":\"Date\",\"formatter\":{\"id\":\"5942766a-7433-4b3c-bb64-cf5c1d456b53\",\"type\":\"DatetimeTickFormatter\"},\"plot\":{\"id\":\"f7ec82cd-b772-4922-ae7d-fceee322be26\",\"subtype\":\"Figure\",\"type\":\"Plot\"},\"ticker\":{\"id\":\"8800c5bd-687c-49d6-80cf-7019c0bbf618\",\"type\":\"DatetimeTicker\"}},\"id\":\"16fe3fd1-0a01-4fa4-b456-d6b7aab3472b\",\"type\":\"DatetimeAxis\"},{\"attributes\":{\"num_minor_ticks\":5,\"tickers\":[{\"id\":\"15007ec2-1a4e-4c9c-995b-c17bd1ab4e97\",\"type\":\"AdaptiveTicker\"},{\"id\":\"94a33315-cc7a-4dea-95ec-1cd87b53d098\",\"type\":\"AdaptiveTicker\"},{\"id\":\"6ed1fbe9-4fed-4a78-a090-1418cc00b704\",\"type\":\"AdaptiveTicker\"},{\"id\":\"4ab5847f-740a-4c7c-b697-8aa8c6e2aa23\",\"type\":\"DaysTicker\"},{\"id\":\"cb7f221c-5951-4959-986f-1b73bb1fbc6e\",\"type\":\"DaysTicker\"},{\"id\":\"9e5da27f-f0df-4475-9b7b-4f944c93f7ba\",\"type\":\"DaysTicker\"},{\"id\":\"53c4b38e-889c-44b1-b181-41c60b1bb538\",\"type\":\"DaysTicker\"},{\"id\":\"d25a077a-1f70-40f1-952c-d286a412af87\",\"type\":\"MonthsTicker\"},{\"id\":\"12e76221-d2f6-4b13-b6b5-bd5bfa6fc0f0\",\"type\":\"MonthsTicker\"},{\"id\":\"a68b00a5-ecdb-4814-851f-28d8856c2486\",\"type\":\"MonthsTicker\"},{\"id\":\"dd411d63-4b53-464c-964a-7aea6f868ae5\",\"type\":\"MonthsTicker\"},{\"id\":\"6b3e12b5-0b07-4242-b81f-7a2327bdbefe\",\"type\":\"YearsTicker\"}]},\"id\":\"8800c5bd-687c-49d6-80cf-7019c0bbf618\",\"type\":\"DatetimeTicker\"},{\"attributes\":{\"axis_label\":\"Number of Crime\",\"formatter\":{\"id\":\"6c389af1-cd1d-47b7-afbd-ac285015029d\",\"type\":\"BasicTickFormatter\"},\"plot\":{\"id\":\"f7ec82cd-b772-4922-ae7d-fceee322be26\",\"subtype\":\"Figure\",\"type\":\"Plot\"},\"ticker\":{\"id\":\"e4ab80fb-194d-4f45-95aa-442e6995c445\",\"type\":\"BasicTicker\"}},\"id\":\"569d8af2-e0d2-4303-9220-66ba1ef8c566\",\"type\":\"LinearAxis\"},{\"attributes\":{},\"id\":\"e4ab80fb-194d-4f45-95aa-442e6995c445\",\"type\":\"BasicTicker\"},{\"attributes\":{\"dimension\":1,\"grid_line_alpha\":{\"value\":0.3},\"plot\":{\"id\":\"f7ec82cd-b772-4922-ae7d-fceee322be26\",\"subtype\":\"Figure\",\"type\":\"Plot\"},\"ticker\":{\"id\":\"e4ab80fb-194d-4f45-95aa-442e6995c445\",\"type\":\"BasicTicker\"}},\"id\":\"8198b7f7-a629-4de0-9564-2d6332fa39d8\",\"type\":\"Grid\"},{\"attributes\":{\"data_source\":{\"id\":\"d3324050-bcb7-4a45-8a7c-1e1cf35af4a5\",\"type\":\"ColumnDataSource\"},\"glyph\":{\"id\":\"d7c2c9a8-5043-42ad-8cc3-c208336cca63\",\"type\":\"Line\"},\"hover_glyph\":null,\"muted_glyph\":null,\"nonselection_glyph\":{\"id\":\"b53362e8-9f59-485d-a5cc-2fa41956ab0c\",\"type\":\"Line\"},\"selection_glyph\":null,\"view\":{\"id\":\"b908d43d-e20b-44bc-be68-d63bfab522a9\",\"type\":\"CDSView\"}},\"id\":\"5bd80ae3-3e25-46ad-b11d-5f75620b4a40\",\"type\":\"GlyphRenderer\"},{\"attributes\":{\"below\":[{\"id\":\"16fe3fd1-0a01-4fa4-b456-d6b7aab3472b\",\"type\":\"DatetimeAxis\"}],\"left\":[{\"id\":\"569d8af2-e0d2-4303-9220-66ba1ef8c566\",\"type\":\"LinearAxis\"}],\"plot_width\":800,\"renderers\":[{\"id\":\"16fe3fd1-0a01-4fa4-b456-d6b7aab3472b\",\"type\":\"DatetimeAxis\"},{\"id\":\"df57b37e-57c4-41b6-b296-b2e58fe07a62\",\"type\":\"Grid\"},{\"id\":\"569d8af2-e0d2-4303-9220-66ba1ef8c566\",\"type\":\"LinearAxis\"},{\"id\":\"8198b7f7-a629-4de0-9564-2d6332fa39d8\",\"type\":\"Grid\"},{\"id\":\"029c4ae6-98b7-4045-aa5d-f0802d7dc1ce\",\"type\":\"BoxAnnotation\"},{\"id\":\"cc3becfd-3301-400b-91de-6bebac8502f6\",\"type\":\"Legend\"},{\"id\":\"5bd80ae3-3e25-46ad-b11d-5f75620b4a40\",\"type\":\"GlyphRenderer\"},{\"id\":\"3a5132d5-c0f5-4dfc-8913-b4785c42f1b4\",\"type\":\"GlyphRenderer\"},{\"id\":\"3fb05c98-bfa5-4ec5-a5bb-1fafa6d4744b\",\"type\":\"GlyphRenderer\"},{\"id\":\"67db0954-6e87-44c6-b18c-9c622cd655cd\",\"type\":\"GlyphRenderer\"},{\"id\":\"b18fbcad-96ed-48ee-8688-0ec12ba0cd85\",\"type\":\"GlyphRenderer\"},{\"id\":\"4f014a98-de10-41ca-9b59-1107f9befbf0\",\"type\":\"GlyphRenderer\"}],\"title\":{\"id\":\"b158a1b8-df54-4e51-b040-2eddf7e9511a\",\"type\":\"Title\"},\"toolbar\":{\"id\":\"25963ba4-4c3a-45fb-b957-33325451e607\",\"type\":\"Toolbar\"},\"x_range\":{\"id\":\"d62328fd-70e5-41b2-8eb5-29de71fdedd6\",\"type\":\"DataRange1d\"},\"x_scale\":{\"id\":\"96022910-1f1c-4c8c-9f2e-48db2e954565\",\"type\":\"LinearScale\"},\"y_range\":{\"id\":\"e28e54fb-4b5d-46f0-93b6-3e88e19ecb87\",\"type\":\"DataRange1d\"},\"y_scale\":{\"id\":\"3c7fa6ea-546b-486d-837b-aaf1988207d0\",\"type\":\"LinearScale\"}},\"id\":\"f7ec82cd-b772-4922-ae7d-fceee322be26\",\"subtype\":\"Figure\",\"type\":\"Plot\"},{\"attributes\":{\"line_color\":\"red\",\"x\":{\"field\":\"x\"},\"y\":{\"field\":\"y\"}},\"id\":\"d7c2c9a8-5043-42ad-8cc3-c208336cca63\",\"type\":\"Line\"},{\"attributes\":{\"mantissas\":[1,2,5],\"max_interval\":500.0,\"num_minor_ticks\":0},\"id\":\"15007ec2-1a4e-4c9c-995b-c17bd1ab4e97\",\"type\":\"AdaptiveTicker\"},{\"attributes\":{\"days\":[1,8,15,22]},\"id\":\"9e5da27f-f0df-4475-9b7b-4f944c93f7ba\",\"type\":\"DaysTicker\"},{\"attributes\":{\"bottom_units\":\"screen\",\"fill_alpha\":{\"value\":0.5},\"fill_color\":{\"value\":\"lightgrey\"},\"left_units\":\"screen\",\"level\":\"overlay\",\"line_alpha\":{\"value\":1.0},\"line_color\":{\"value\":\"black\"},\"line_dash\":[4,4],\"line_width\":{\"value\":2},\"plot\":null,\"render_mode\":\"css\",\"right_units\":\"screen\",\"top_units\":\"screen\"},\"id\":\"029c4ae6-98b7-4045-aa5d-f0802d7dc1ce\",\"type\":\"BoxAnnotation\"},{\"attributes\":{},\"id\":\"7a298215-a325-44c4-ab9e-14d163785157\",\"type\":\"PanTool\"},{\"attributes\":{\"source\":{\"id\":\"d3324050-bcb7-4a45-8a7c-1e1cf35af4a5\",\"type\":\"ColumnDataSource\"}},\"id\":\"b908d43d-e20b-44bc-be68-d63bfab522a9\",\"type\":\"CDSView\"},{\"attributes\":{},\"id\":\"2177f497-d186-4af9-b293-d121cc82c19b\",\"type\":\"WheelZoomTool\"},{\"attributes\":{\"months\":[0,4,8]},\"id\":\"a68b00a5-ecdb-4814-851f-28d8856c2486\",\"type\":\"MonthsTicker\"},{\"attributes\":{\"overlay\":{\"id\":\"029c4ae6-98b7-4045-aa5d-f0802d7dc1ce\",\"type\":\"BoxAnnotation\"}},\"id\":\"da1506df-83ce-47bf-9b2c-b5065e1e00c8\",\"type\":\"BoxZoomTool\"},{\"attributes\":{},\"id\":\"745022d1-fb41-4832-b7c2-4fd754c225ad\",\"type\":\"SaveTool\"},{\"attributes\":{},\"id\":\"18894ce3-5c14-4c05-bcb3-6913ef2dcb92\",\"type\":\"ResetTool\"},{\"attributes\":{\"months\":[0,1,2,3,4,5,6,7,8,9,10,11]},\"id\":\"d25a077a-1f70-40f1-952c-d286a412af87\",\"type\":\"MonthsTicker\"},{\"attributes\":{},\"id\":\"d1127a09-2341-480d-9d96-eecfae5d039d\",\"type\":\"HelpTool\"},{\"attributes\":{\"months\":[0,6]},\"id\":\"dd411d63-4b53-464c-964a-7aea6f868ae5\",\"type\":\"MonthsTicker\"},{\"attributes\":{},\"id\":\"6c389af1-cd1d-47b7-afbd-ac285015029d\",\"type\":\"BasicTickFormatter\"},{\"attributes\":{\"callback\":null},\"id\":\"d62328fd-70e5-41b2-8eb5-29de71fdedd6\",\"type\":\"DataRange1d\"},{\"attributes\":{},\"id\":\"5942766a-7433-4b3c-bb64-cf5c1d456b53\",\"type\":\"DatetimeTickFormatter\"},{\"attributes\":{\"callback\":null,\"column_names\":[\"x\",\"y\"],\"data\":{\"x\":{\"__ndarray__\":\"AAAAJLkScEIAAEB2sxxwQgAAQJe2JXBCAACA6bAvcEIAAADWWDlwQgAAQChTQ3BCAADAFPtMcEIAAABn9VZwQgAAQLnvYHBCAADApZdqcEIAAAD4kXRwQgAAgOQ5fnBCAADANjSIcEIAAACJLpJwQgAAAKoxm3BCAABA/CulcEIAAMDo065wQgAAADvOuHBCAACAJ3bCcEIAAMB5cMxwQgAAAMxq1nBCAACAuBLgcEIAAMAKDepwQgAAQPe083BCAACASa/9cEIAAMCbqQdxQgAAwLysEHFCAAAAD6cacUIAAID7TiRxQgAAwE1JLnFCAABAOvE3cUIAAICM60FxQgAAwN7lS3FCAABAy41VcUIAAIAdiF9xQgAAAAowaXFCAABAXCpzcUIAAICuJH1xQgAAQDV6hnFCAACAh3SQcUIAAAB0HJpxQgAAQMYWpHFCAADAsr6tcUIAAAAFubdxQgAAQFezwXFCAADAQ1vLcUIAAACWVdVxQgAAgIL93nFCAADA1PfocUIAAAAn8vJxQgAAAEj1+3FCAABAmu8FckIAAMCGlw9yQgAAANmRGXJCAACAxTkjckIAAMAXNC1yQgAAAGouN3JCAACAVtZAckIAAMCo0EpyQgAAQJV4VHJCAACA53JeckIAAMA5bWhyQgAAwFpwcXJCAAAArWp7ckIAAICZEoVyQgAAwOsMj3JCAABA2LSYckIAAIAqr6JyQgAAwHyprHJCAABAaVG2ckIAAIC7S8ByQgAAAKjzyXJCAABA+u3TckIAAIBM6N1yQgAAgG3r5nJCAADAv+XwckIAAECsjfpyQgAAgP6HBHNCAAAA6y8Oc0IAAEA9KhhzQgAAgI8kInNCAAAAfMwrc0IAAEDOxjVzQgAAwLpuP3NCAAAADWlJc0IAAEBfY1NzQgAAAOa4XHNCAABAOLNmc0IAAMAkW3BzQgAAAHdVenNCAACAY/2Dc0IAAMC1941zQgAAAAjyl3NCAACA9Jmhc0IAAMBGlKtzQgAAQDM8tXNCAACAhTa/c0IAAMDXMMlzQgAAwPgz0nNCAAAASy7cc0IAAIA31uVzQgAAwInQ73NCAABAdnj5c0IAAIDIcgN0QgAAwBptDXRCAABABxUXdEIAAIBZDyF0QgAAAEa3KnRCAABAmLE0dEIAAIDqqz50QgAAgAuvR3RCAADAXalRdEIAAEBKUVt0QgAAgJxLZXRCAAAAifNudEIAAEDb7Xh0QgAAgC3ognRCAAAAGpCMdEIAAEBsipZ0QgAAwFgyoHRCAAAAqyyqdEIAAED9JrR0QgAAQB4qvXRCAACAcCTHdEIAAABdzNB0QgAAQK/G2nRCAADAm27kdEIAAADuaO50QgAAQEBj+HRCAADALAsCdUIAAAB/BQx1QgAAgGutFXVC\",\"dtype\":\"float64\",\"shape\":[132]},\"y\":[493,462,585,581,658,622,643,616,559,655,581,558,601,602,621,741,678,602,660,687,672,664,560,600,648,531,682,612,643,644,738,604,639,690,596,539,642,546,653,664,635,567,601,582,579,711,602,560,556,481,623,660,554,537,675,714,688,750,684,682,702,588,609,687,719,715,650,694,685,680,635,570,663,590,684,683,601,571,598,562,525,595,541,630,605,604,642,659,606,614,675,663,687,807,648,598,566,526,657,610,515,561,598,558,630,587,516,597,577,546,603,619,592,508,616,632,604,635,611,622,616,513,678,587,672,662,773,729,663,674,561,547]},\"selected\":null,\"selection_policy\":null},\"id\":\"4b1db411-f0c7-4475-b2e8-0ba1be73216c\",\"type\":\"ColumnDataSource\"},{\"attributes\":{\"months\":[0,2,4,6,8,10]},\"id\":\"12e76221-d2f6-4b13-b6b5-bd5bfa6fc0f0\",\"type\":\"MonthsTicker\"},{\"attributes\":{\"base\":60,\"mantissas\":[1,2,5,10,15,20,30],\"max_interval\":1800000.0,\"min_interval\":1000.0,\"num_minor_ticks\":0},\"id\":\"94a33315-cc7a-4dea-95ec-1cd87b53d098\",\"type\":\"AdaptiveTicker\"},{\"attributes\":{\"data_source\":{\"id\":\"4b1db411-f0c7-4475-b2e8-0ba1be73216c\",\"type\":\"ColumnDataSource\"},\"glyph\":{\"id\":\"ac059f65-fdcc-446a-ac4d-9c11d21b667d\",\"type\":\"Line\"},\"hover_glyph\":null,\"muted_glyph\":null,\"nonselection_glyph\":{\"id\":\"6b8f78a4-02ea-45f5-b41d-e2f175cd1eff\",\"type\":\"Line\"},\"selection_glyph\":null,\"view\":{\"id\":\"2220a1c6-084a-4749-aefa-4879c37077da\",\"type\":\"CDSView\"}},\"id\":\"3a5132d5-c0f5-4dfc-8913-b4785c42f1b4\",\"type\":\"GlyphRenderer\"},{\"attributes\":{\"base\":24,\"mantissas\":[1,2,4,6,8,12],\"max_interval\":43200000.0,\"min_interval\":3600000.0,\"num_minor_ticks\":0},\"id\":\"6ed1fbe9-4fed-4a78-a090-1418cc00b704\",\"type\":\"AdaptiveTicker\"},{\"attributes\":{\"days\":[1,2,3,4,5,6,7,8,9,10,11,12,13,14,15,16,17,18,19,20,21,22,23,24,25,26,27,28,29,30,31]},\"id\":\"4ab5847f-740a-4c7c-b697-8aa8c6e2aa23\",\"type\":\"DaysTicker\"},{\"attributes\":{\"callback\":null,\"column_names\":[\"x\",\"y\"],\"data\":{\"x\":{\"__ndarray__\":\"AAAAJLkScEIAAEB2sxxwQgAAQJe2JXBCAACA6bAvcEIAAADWWDlwQgAAQChTQ3BCAADAFPtMcEIAAABn9VZwQgAAQLnvYHBCAADApZdqcEIAAAD4kXRwQgAAgOQ5fnBCAADANjSIcEIAAACJLpJwQgAAAKoxm3BCAABA/CulcEIAAMDo065wQgAAADvOuHBCAACAJ3bCcEIAAMB5cMxwQgAAAMxq1nBCAACAuBLgcEIAAMAKDepwQgAAQPe083BCAACASa/9cEIAAMCbqQdxQgAAwLysEHFCAAAAD6cacUIAAID7TiRxQgAAwE1JLnFCAABAOvE3cUIAAICM60FxQgAAwN7lS3FCAABAy41VcUIAAIAdiF9xQgAAAAowaXFCAABAXCpzcUIAAICuJH1xQgAAQDV6hnFCAACAh3SQcUIAAAB0HJpxQgAAQMYWpHFCAADAsr6tcUIAAAAFubdxQgAAQFezwXFCAADAQ1vLcUIAAACWVdVxQgAAgIL93nFCAADA1PfocUIAAAAn8vJxQgAAAEj1+3FCAABAmu8FckIAAMCGlw9yQgAAANmRGXJCAACAxTkjckIAAMAXNC1yQgAAAGouN3JCAACAVtZAckIAAMCo0EpyQgAAQJV4VHJCAACA53JeckIAAMA5bWhyQgAAwFpwcXJCAAAArWp7ckIAAICZEoVyQgAAwOsMj3JCAABA2LSYckIAAIAqr6JyQgAAwHyprHJCAABAaVG2ckIAAIC7S8ByQgAAAKjzyXJCAABA+u3TckIAAIBM6N1yQgAAgG3r5nJCAADAv+XwckIAAECsjfpyQgAAgP6HBHNCAAAA6y8Oc0IAAEA9KhhzQgAAgI8kInNCAAAAfMwrc0IAAEDOxjVzQgAAwLpuP3NCAAAADWlJc0IAAEBfY1NzQgAAAOa4XHNCAABAOLNmc0IAAMAkW3BzQgAAAHdVenNCAACAY/2Dc0IAAMC1941zQgAAAAjyl3NCAACA9Jmhc0IAAMBGlKtzQgAAQDM8tXNCAACAhTa/c0IAAMDXMMlzQgAAwPgz0nNCAAAASy7cc0IAAIA31uVzQgAAwInQ73NCAABAdnj5c0IAAIDIcgN0QgAAwBptDXRCAABABxUXdEIAAIBZDyF0QgAAAEa3KnRCAABAmLE0dEIAAIDqqz50QgAAgAuvR3RCAADAXalRdEIAAEBKUVt0QgAAgJxLZXRCAAAAifNudEIAAEDb7Xh0QgAAgC3ognRCAAAAGpCMdEIAAEBsipZ0QgAAwFgyoHRCAAAAqyyqdEIAAED9JrR0QgAAQB4qvXRCAACAcCTHdEIAAABdzNB0QgAAQK/G2nRCAADAm27kdEIAAADuaO50QgAAQEBj+HRCAADALAsCdUIAAAB/BQx1QgAAgGutFXVC\",\"dtype\":\"float64\",\"shape\":[132]},\"y\":[2038,1734,2035,1920,2181,2253,2307,2406,2197,2169,1996,2083,2351,2077,2335,2397,2344,2272,2209,2408,2296,2386,2110,2167,1979,1643,2065,2018,2125,2196,2536,2463,2391,2292,2029,2033,2162,1888,2222,2334,2169,1976,2196,2177,2224,2420,2078,1961,1932,1846,2198,2050,1988,1862,2327,2509,2310,2246,2151,2166,2116,1693,1915,1788,1933,1961,2121,2289,2180,2142,2179,2129,2109,1924,2264,2037,2214,2041,2098,2148,2077,2327,2238,2428,2201,2112,2119,2325,2559,2509,2564,2849,2978,3150,2866,2744,2932,2677,2872,2904,2710,2711,3318,3478,3604,3370,3030,2806,2941,2549,3021,3022,2828,2742,3189,3650,3266,3630,3495,3670,3715,3284,3820,3482,3846,3758,3879,3702,3430,3268,2945,2939]},\"selected\":null,\"selection_policy\":null},\"id\":\"d9c81cdb-0311-456f-99aa-7addc75f1b30\",\"type\":\"ColumnDataSource\"},{\"attributes\":{\"source\":{\"id\":\"4b1db411-f0c7-4475-b2e8-0ba1be73216c\",\"type\":\"ColumnDataSource\"}},\"id\":\"2220a1c6-084a-4749-aefa-4879c37077da\",\"type\":\"CDSView\"},{\"attributes\":{\"days\":[1,15]},\"id\":\"53c4b38e-889c-44b1-b181-41c60b1bb538\",\"type\":\"DaysTicker\"},{\"attributes\":{\"line_color\":\"orange\",\"x\":{\"field\":\"x\"},\"y\":{\"field\":\"y\"}},\"id\":\"ac059f65-fdcc-446a-ac4d-9c11d21b667d\",\"type\":\"Line\"},{\"attributes\":{\"line_alpha\":0.1,\"line_color\":\"#1f77b4\",\"x\":{\"field\":\"x\"},\"y\":{\"field\":\"y\"}},\"id\":\"6b8f78a4-02ea-45f5-b41d-e2f175cd1eff\",\"type\":\"Line\"},{\"attributes\":{\"label\":{\"value\":\"VANDALISM\"},\"renderers\":[{\"id\":\"3a5132d5-c0f5-4dfc-8913-b4785c42f1b4\",\"type\":\"GlyphRenderer\"}]},\"id\":\"c1bc7ac8-9368-4be4-ae80-4aa190236c3f\",\"type\":\"LegendItem\"},{\"attributes\":{\"plot\":null,\"text\":\"Monthly Property Crime\"},\"id\":\"b158a1b8-df54-4e51-b040-2eddf7e9511a\",\"type\":\"Title\"},{\"attributes\":{\"callback\":null,\"column_names\":[\"x\",\"y\"],\"data\":{\"x\":{\"__ndarray__\":\"AAAAJLkScEIAAEB2sxxwQgAAQJe2JXBCAACA6bAvcEIAAADWWDlwQgAAQChTQ3BCAADAFPtMcEIAAABn9VZwQgAAQLnvYHBCAADApZdqcEIAAAD4kXRwQgAAgOQ5fnBCAADANjSIcEIAAACJLpJwQgAAAKoxm3BCAABA/CulcEIAAMDo065wQgAAADvOuHBCAACAJ3bCcEIAAMB5cMxwQgAAAMxq1nBCAACAuBLgcEIAAMAKDepwQgAAQPe083BCAACASa/9cEIAAMCbqQdxQgAAwLysEHFCAAAAD6cacUIAAID7TiRxQgAAwE1JLnFCAABAOvE3cUIAAICM60FxQgAAwN7lS3FCAABAy41VcUIAAIAdiF9xQgAAAAowaXFCAABAXCpzcUIAAICuJH1xQgAAQDV6hnFCAACAh3SQcUIAAAB0HJpxQgAAQMYWpHFCAADAsr6tcUIAAAAFubdxQgAAQFezwXFCAADAQ1vLcUIAAACWVdVxQgAAgIL93nFCAADA1PfocUIAAAAn8vJxQgAAAEj1+3FCAABAmu8FckIAAMCGlw9yQgAAANmRGXJCAACAxTkjckIAAMAXNC1yQgAAAGouN3JCAACAVtZAckIAAMCo0EpyQgAAQJV4VHJCAACA53JeckIAAMA5bWhyQgAAwFpwcXJCAAAArWp7ckIAAICZEoVyQgAAwOsMj3JCAABA2LSYckIAAIAqr6JyQgAAwHyprHJCAABAaVG2ckIAAIC7S8ByQgAAAKjzyXJCAABA+u3TckIAAIBM6N1yQgAAgG3r5nJCAADAv+XwckIAAECsjfpyQgAAgP6HBHNCAAAA6y8Oc0IAAEA9KhhzQgAAgI8kInNCAAAAfMwrc0IAAEDOxjVzQgAAwLpuP3NCAAAADWlJc0IAAEBfY1NzQgAAAOa4XHNCAABAOLNmc0IAAMAkW3BzQgAAAHdVenNCAACAY/2Dc0IAAMC1941zQgAAAAjyl3NCAACA9Jmhc0IAAMBGlKtzQgAAQDM8tXNCAACAhTa/c0IAAMDXMMlzQgAAwPgz0nNCAAAASy7cc0IAAIA31uVzQgAAwInQ73NCAABAdnj5c0IAAIDIcgN0QgAAwBptDXRCAABABxUXdEIAAIBZDyF0QgAAAEa3KnRCAABAmLE0dEIAAIDqqz50QgAAgAuvR3RCAADAXalRdEIAAEBKUVt0QgAAgJxLZXRCAAAAifNudEIAAEDb7Xh0QgAAgC3ognRCAAAAGpCMdEIAAEBsipZ0QgAAwFgyoHRCAAAAqyyqdEIAAED9JrR0QgAAQB4qvXRCAACAcCTHdEIAAABdzNB0QgAAQK/G2nRCAADAm27kdEIAAADuaO50QgAAQEBj+HRCAADALAsCdUIAAAB/BQx1QgAAgGutFXVC\",\"dtype\":\"float64\",\"shape\":[132]},\"y\":[56,40,46,41,56,40,50,43,36,49,32,51,55,46,64,67,53,49,37,47,44,48,33,32,46,33,46,48,44,54,37,32,54,54,41,38,32,35,38,31,41,39,40,52,58,63,46,43,46,50,63,53,48,52,56,55,61,59,57,60,64,51,56,58,59,56,50,66,49,59,57,55,77,62,58,55,66,69,47,81,67,64,76,63,75,71,69,62,94,61,73,83,88,82,93,81,103,79,88,102,100,89,104,129,118,120,89,103,86,99,98,92,89,77,91,92,84,106,80,90,82,84,92,77,68,75,87,84,90,84,65,71]},\"selected\":null,\"selection_policy\":null},\"id\":\"c1de8039-db94-4b22-88d4-c0876d08fdc8\",\"type\":\"ColumnDataSource\"},{\"attributes\":{\"callback\":null,\"column_names\":[\"x\",\"y\"],\"data\":{\"x\":{\"__ndarray__\":\"AAAAJLkScEIAAEB2sxxwQgAAQJe2JXBCAACA6bAvcEIAAADWWDlwQgAAQChTQ3BCAADAFPtMcEIAAABn9VZwQgAAQLnvYHBCAADApZdqcEIAAAD4kXRwQgAAgOQ5fnBCAADANjSIcEIAAACJLpJwQgAAAKoxm3BCAABA/CulcEIAAMDo065wQgAAADvOuHBCAACAJ3bCcEIAAMB5cMxwQgAAAMxq1nBCAACAuBLgcEIAAMAKDepwQgAAQPe083BCAACASa/9cEIAAMCbqQdxQgAAwLysEHFCAAAAD6cacUIAAID7TiRxQgAAwE1JLnFCAABAOvE3cUIAAICM60FxQgAAwN7lS3FCAABAy41VcUIAAIAdiF9xQgAAAAowaXFCAABAXCpzcUIAAICuJH1xQgAAQDV6hnFCAACAh3SQcUIAAAB0HJpxQgAAQMYWpHFCAADAsr6tcUIAAAAFubdxQgAAQFezwXFCAADAQ1vLcUIAAACWVdVxQgAAgIL93nFCAADA1PfocUIAAAAn8vJxQgAAAEj1+3FCAABAmu8FckIAAMCGlw9yQgAAANmRGXJCAACAxTkjckIAAMAXNC1yQgAAAGouN3JCAACAVtZAckIAAMCo0EpyQgAAQJV4VHJCAACA53JeckIAAMA5bWhyQgAAwFpwcXJCAAAArWp7ckIAAICZEoVyQgAAwOsMj3JCAABA2LSYckIAAIAqr6JyQgAAwHyprHJCAABAaVG2ckIAAIC7S8ByQgAAAKjzyXJCAABA+u3TckIAAIBM6N1yQgAAgG3r5nJCAADAv+XwckIAAECsjfpyQgAAgP6HBHNCAAAA6y8Oc0IAAEA9KhhzQgAAgI8kInNCAAAAfMwrc0IAAEDOxjVzQgAAwLpuP3NCAAAADWlJc0IAAEBfY1NzQgAAAOa4XHNCAABAOLNmc0IAAMAkW3BzQgAAAHdVenNCAACAY/2Dc0IAAMC1941zQgAAAAjyl3NCAACA9Jmhc0IAAMBGlKtzQgAAQDM8tXNCAACAhTa/c0IAAMDXMMlzQgAAwPgz0nNCAAAASy7cc0IAAIA31uVzQgAAwInQ73NCAABAdnj5c0IAAIDIcgN0QgAAwBptDXRCAABABxUXdEIAAIBZDyF0QgAAAEa3KnRCAABAmLE0dEIAAIDqqz50QgAAgAuvR3RCAADAXalRdEIAAEBKUVt0QgAAgJxLZXRCAAAAifNudEIAAEDb7Xh0QgAAgC3ognRCAAAAGpCMdEIAAEBsipZ0QgAAwFgyoHRCAAAAqyyqdEIAAED9JrR0QgAAQB4qvXRCAACAcCTHdEIAAABdzNB0QgAAQK/G2nRCAADAm27kdEIAAADuaO50QgAAQEBj+HRCAADALAsCdUIAAAB/BQx1QgAAgGutFXVC\",\"dtype\":\"float64\",\"shape\":[132]},\"y\":[1685,1366,1476,1594,1590,1394,1429,1412,1430,1774,1723,1321,609,572,565,572,547,651,673,687,570,628,604,613,523,466,511,408,376,488,633,707,692,619,544,493,519,475,527,538,510,427,460,510,579,576,444,488,545,403,459,395,402,393,438,489,433,416,436,374,366,363,352,326,271,366,388,381,403,359,398,373,339,312,465,359,375,350,274,370,454,513,451,500,428,474,451,473,455,497,600,573,548,551,580,553,523,470,455,440,503,515,495,584,699,567,453,537,517,442,528,650,641,683,650,645,496,704,566,586,606,552,626,728,825,717,633,630,628,710,639,649]},\"selected\":null,\"selection_policy\":null},\"id\":\"34a4c011-a1c0-4b93-838f-f1c318488f7b\",\"type\":\"ColumnDataSource\"},{\"attributes\":{\"source\":{\"id\":\"d9c81cdb-0311-456f-99aa-7addc75f1b30\",\"type\":\"ColumnDataSource\"}},\"id\":\"c46ae7d3-e8a0-41ad-bae6-acb57f002ad9\",\"type\":\"CDSView\"},{\"attributes\":{\"data_source\":{\"id\":\"d9c81cdb-0311-456f-99aa-7addc75f1b30\",\"type\":\"ColumnDataSource\"},\"glyph\":{\"id\":\"cdc76ed8-2dd9-4e0c-9414-a49314bddeb7\",\"type\":\"Line\"},\"hover_glyph\":null,\"muted_glyph\":null,\"nonselection_glyph\":{\"id\":\"52ea8aad-c949-4afd-954a-0d7856892483\",\"type\":\"Line\"},\"selection_glyph\":null,\"view\":{\"id\":\"c46ae7d3-e8a0-41ad-bae6-acb57f002ad9\",\"type\":\"CDSView\"}},\"id\":\"3fb05c98-bfa5-4ec5-a5bb-1fafa6d4744b\",\"type\":\"GlyphRenderer\"},{\"attributes\":{},\"id\":\"6b3e12b5-0b07-4242-b81f-7a2327bdbefe\",\"type\":\"YearsTicker\"},{\"attributes\":{\"line_color\":\"blue\",\"x\":{\"field\":\"x\"},\"y\":{\"field\":\"y\"}},\"id\":\"cdc76ed8-2dd9-4e0c-9414-a49314bddeb7\",\"type\":\"Line\"},{\"attributes\":{\"line_alpha\":0.1,\"line_color\":\"#1f77b4\",\"x\":{\"field\":\"x\"},\"y\":{\"field\":\"y\"}},\"id\":\"52ea8aad-c949-4afd-954a-0d7856892483\",\"type\":\"Line\"},{\"attributes\":{\"label\":{\"value\":\"LARCENY/THEFT\"},\"renderers\":[{\"id\":\"3fb05c98-bfa5-4ec5-a5bb-1fafa6d4744b\",\"type\":\"GlyphRenderer\"}]},\"id\":\"de47105e-99bf-4c3b-805e-61b3d1ad80d1\",\"type\":\"LegendItem\"},{\"attributes\":{\"active_drag\":\"auto\",\"active_inspect\":\"auto\",\"active_scroll\":\"auto\",\"active_tap\":\"auto\",\"tools\":[{\"id\":\"7a298215-a325-44c4-ab9e-14d163785157\",\"type\":\"PanTool\"},{\"id\":\"2177f497-d186-4af9-b293-d121cc82c19b\",\"type\":\"WheelZoomTool\"},{\"id\":\"da1506df-83ce-47bf-9b2c-b5065e1e00c8\",\"type\":\"BoxZoomTool\"},{\"id\":\"745022d1-fb41-4832-b7c2-4fd754c225ad\",\"type\":\"SaveTool\"},{\"id\":\"18894ce3-5c14-4c05-bcb3-6913ef2dcb92\",\"type\":\"ResetTool\"},{\"id\":\"d1127a09-2341-480d-9d96-eecfae5d039d\",\"type\":\"HelpTool\"}]},\"id\":\"25963ba4-4c3a-45fb-b957-33325451e607\",\"type\":\"Toolbar\"},{\"attributes\":{\"line_color\":\"brown\",\"x\":{\"field\":\"x\"},\"y\":{\"field\":\"y\"}},\"id\":\"8696d42d-5250-47bd-b1b8-34c9ff9054ec\",\"type\":\"Line\"},{\"attributes\":{\"source\":{\"id\":\"34a4c011-a1c0-4b93-838f-f1c318488f7b\",\"type\":\"ColumnDataSource\"}},\"id\":\"7cc5436e-a021-4291-9e84-86e7607565f1\",\"type\":\"CDSView\"},{\"attributes\":{\"data_source\":{\"id\":\"34a4c011-a1c0-4b93-838f-f1c318488f7b\",\"type\":\"ColumnDataSource\"},\"glyph\":{\"id\":\"fc32ff5d-f3ee-477f-91ab-bf0c00110e39\",\"type\":\"Line\"},\"hover_glyph\":null,\"muted_glyph\":null,\"nonselection_glyph\":{\"id\":\"054546d6-a3bb-41b7-be24-77b2287bb630\",\"type\":\"Line\"},\"selection_glyph\":null,\"view\":{\"id\":\"7cc5436e-a021-4291-9e84-86e7607565f1\",\"type\":\"CDSView\"}},\"id\":\"67db0954-6e87-44c6-b18c-9c622cd655cd\",\"type\":\"GlyphRenderer\"},{\"attributes\":{\"line_color\":\"green\",\"x\":{\"field\":\"x\"},\"y\":{\"field\":\"y\"}},\"id\":\"fc32ff5d-f3ee-477f-91ab-bf0c00110e39\",\"type\":\"Line\"},{\"attributes\":{\"days\":[1,4,7,10,13,16,19,22,25,28]},\"id\":\"cb7f221c-5951-4959-986f-1b73bb1fbc6e\",\"type\":\"DaysTicker\"},{\"attributes\":{\"line_alpha\":0.1,\"line_color\":\"#1f77b4\",\"x\":{\"field\":\"x\"},\"y\":{\"field\":\"y\"}},\"id\":\"054546d6-a3bb-41b7-be24-77b2287bb630\",\"type\":\"Line\"},{\"attributes\":{\"callback\":null,\"column_names\":[\"x\",\"y\"],\"data\":{\"x\":{\"__ndarray__\":\"AAAAJLkScEIAAEB2sxxwQgAAQJe2JXBCAACA6bAvcEIAAADWWDlwQgAAQChTQ3BCAADAFPtMcEIAAABn9VZwQgAAQLnvYHBCAADApZdqcEIAAAD4kXRwQgAAgOQ5fnBCAADANjSIcEIAAACJLpJwQgAAAKoxm3BCAABA/CulcEIAAMDo065wQgAAADvOuHBCAACAJ3bCcEIAAMB5cMxwQgAAAMxq1nBCAACAuBLgcEIAAMAKDepwQgAAQPe083BCAACASa/9cEIAAMCbqQdxQgAAwLysEHFCAAAAD6cacUIAAID7TiRxQgAAwE1JLnFCAABAOvE3cUIAAICM60FxQgAAwN7lS3FCAABAy41VcUIAAIAdiF9xQgAAAAowaXFCAABAXCpzcUIAAICuJH1xQgAAQDV6hnFCAACAh3SQcUIAAAB0HJpxQgAAQMYWpHFCAADAsr6tcUIAAAAFubdxQgAAQFezwXFCAADAQ1vLcUIAAACWVdVxQgAAgIL93nFCAADA1PfocUIAAAAn8vJxQgAAAEj1+3FCAABAmu8FckIAAMCGlw9yQgAAANmRGXJCAACAxTkjckIAAMAXNC1yQgAAAGouN3JCAACAVtZAckIAAMCo0EpyQgAAQJV4VHJCAACA53JeckIAAMA5bWhyQgAAwFpwcXJCAAAArWp7ckIAAICZEoVyQgAAwOsMj3JCAABA2LSYckIAAIAqr6JyQgAAwHyprHJCAABAaVG2ckIAAIC7S8ByQgAAAKjzyXJCAABA+u3TckIAAIBM6N1yQgAAgG3r5nJCAADAv+XwckIAAECsjfpyQgAAgP6HBHNCAAAA6y8Oc0IAAEA9KhhzQgAAgI8kInNCAAAAfMwrc0IAAEDOxjVzQgAAwLpuP3NCAAAADWlJc0IAAEBfY1NzQgAAAOa4XHNCAABAOLNmc0IAAMAkW3BzQgAAAHdVenNCAACAY/2Dc0IAAMC1941zQgAAAAjyl3NCAACA9Jmhc0IAAMBGlKtzQgAAQDM8tXNCAACAhTa/c0IAAMDXMMlzQgAAwPgz0nNCAAAASy7cc0IAAIA31uVzQgAAwInQ73NCAABAdnj5c0IAAIDIcgN0QgAAwBptDXRCAABABxUXdEIAAIBZDyF0QgAAAEa3KnRCAABAmLE0dEIAAIDqqz50QgAAgAuvR3RCAADAXalRdEIAAEBKUVt0QgAAgJxLZXRCAAAAifNudEIAAEDb7Xh0QgAAgC3ognRCAAAAGpCMdEIAAEBsipZ0QgAAwFgyoHRCAAAAqyyqdEIAAED9JrR0QgAAQB4qvXRCAACAcCTHdEIAAABdzNB0QgAAQK/G2nRCAADAm27kdEIAAADuaO50QgAAQEBj+HRCAADALAsCdUIAAAB/BQx1QgAAgGutFXVC\",\"dtype\":\"float64\",\"shape\":[132]},\"y\":[698,547,654,551,622,586,691,595,531,526,511,559,527,515,576,616,621,600,656,658,562,508,585,580,501,382,426,476,426,448,509,474,385,456,482,489,434,382,470,440,458,438,500,473,542,494,523,525,441,389,499,491,441,432,475,453,415,430,437,476,421,374,404,436,492,457,432,403,385,393,382,387,442,315,374,377,406,390,378,466,467,421,475,476,471,464,475,536,523,495,522,547,482,594,584,550,507,440,519,540,508,484,534,534,568,525,517,519,618,506,563,485,485,442,499,479,457,553,462,517,495,481,513,490,568,498,490,490,467,458,457,524]},\"selected\":null,\"selection_policy\":null},\"id\":\"d3324050-bcb7-4a45-8a7c-1e1cf35af4a5\",\"type\":\"ColumnDataSource\"},{\"attributes\":{\"label\":{\"value\":\"VEHICLE THEFT\"},\"renderers\":[{\"id\":\"67db0954-6e87-44c6-b18c-9c622cd655cd\",\"type\":\"GlyphRenderer\"}]},\"id\":\"6be97a3f-d683-4b60-a283-0caf5f5316aa\",\"type\":\"LegendItem\"},{\"attributes\":{\"line_alpha\":0.1,\"line_color\":\"#1f77b4\",\"x\":{\"field\":\"x\"},\"y\":{\"field\":\"y\"}},\"id\":\"55a6cd0e-5205-4106-abd8-f8bf90ca5b10\",\"type\":\"Line\"}],\"root_ids\":[\"f7ec82cd-b772-4922-ae7d-fceee322be26\"]},\"title\":\"Bokeh Application\",\"version\":\"0.12.15\"}};\n",
       "  var render_items = [{\"docid\":\"72562448-a08e-47b3-88d2-8f646330565c\",\"elementid\":\"62a2a8a3-10ae-4ed1-a0e4-4b2db83c3645\",\"modelid\":\"f7ec82cd-b772-4922-ae7d-fceee322be26\"}];\n",
       "  root.Bokeh.embed.embed_items_notebook(docs_json, render_items);\n",
       "\n",
       "  }\n",
       "  if (root.Bokeh !== undefined) {\n",
       "    embed_document(root);\n",
       "  } else {\n",
       "    var attempts = 0;\n",
       "    var timer = setInterval(function(root) {\n",
       "      if (root.Bokeh !== undefined) {\n",
       "        embed_document(root);\n",
       "        clearInterval(timer);\n",
       "      }\n",
       "      attempts++;\n",
       "      if (attempts > 100) {\n",
       "        console.log(\"Bokeh: ERROR: Unable to run BokehJS code because BokehJS library is missing\")\n",
       "        clearInterval(timer);\n",
       "      }\n",
       "    }, 10, root)\n",
       "  }\n",
       "})(window);"
      ],
      "application/vnd.bokehjs_exec.v0+json": ""
     },
     "metadata": {
      "application/vnd.bokehjs_exec.v0+json": {
       "id": "f7ec82cd-b772-4922-ae7d-fceee322be26"
      }
     },
     "output_type": "display_data"
    }
   ],
   "source": [
    "# Multi Line Chart\n",
    "burg = data[data['Category']=='BURGLARY']\n",
    "burg = pd.DataFrame(burg.groupby('Date')['IncidntNum'].sum()).reset_index()\n",
    "\n",
    "vand = data[data['Category']=='VANDALISM']\n",
    "vand = pd.DataFrame(vand.groupby('Date')['IncidntNum'].sum()).reset_index()\n",
    "\n",
    "larc = data[data['Category']=='LARCENY/THEFT']\n",
    "larc = pd.DataFrame(larc.groupby('Date')['IncidntNum'].sum()).reset_index()\n",
    "\n",
    "vehi = data[data['Category']=='VEHICLE THEFT']\n",
    "vehi = pd.DataFrame(vehi.groupby('Date')['IncidntNum'].sum()).reset_index()\n",
    "\n",
    "stol = data[data['Category']=='STOLEN PROPERTY']\n",
    "stol = pd.DataFrame(stol.groupby('Date')['IncidntNum'].sum()).reset_index()\n",
    "\n",
    "arso = data[data['Category']=='ARSON']\n",
    "arso = pd.DataFrame(arso.groupby('Date')['IncidntNum'].sum()).reset_index()\n",
    "\n",
    "p2 = figure(x_axis_type=\"datetime\", title=\"Monthly Property Crime\", plot_width=800,plot_height=600)\n",
    "p2.grid.grid_line_alpha=0.3\n",
    "p2.xaxis.axis_label = 'Date'\n",
    "p2.yaxis.axis_label = 'Number of Crime'\n",
    "\n",
    "p2.line(burg['Date'], burg['IncidntNum'], color='red', legend='BURGLARY')\n",
    "p2.line(vand['Date'], vand['IncidntNum'], color='orange', legend='VANDALISM')\n",
    "p2.line(larc['Date'], larc['IncidntNum'], color='blue', legend='LARCENY/THEFT')\n",
    "p2.line(vehi['Date'], vehi['IncidntNum'], color='green', legend='VEHICLE THEFT')\n",
    "p2.line(stol['Date'], stol['IncidntNum'], color='brown', legend='STOLEN PROPERTY')\n",
    "p2.line(arso['Date'], arso['IncidntNum'], color='purple', legend='ARSON')\n",
    "\n",
    "p2.legend.location = \"top_left\"\n",
    "p2.legend.label_text_font_size = \"7pt\"\n",
    "show(p2)"
   ]
  },
  {
   "cell_type": "markdown",
   "metadata": {},
   "source": [
    "According to the diagram, one can see that larceny and theft is the most frequent crime and has been increasing throughout the time. Also there was a sharp decrease of vehicle theft in 2006. As for the other types of crime, they tend to be stationary and have no particular trend. "
   ]
  },
  {
   "cell_type": "markdown",
   "metadata": {},
   "source": [
    "Since larceny and theft has the most number of occurence, it will be good to know it's yearly average number of occurence. A bar plot can be used to visualize this."
   ]
  },
  {
   "cell_type": "code",
   "execution_count": 8,
   "metadata": {
    "scrolled": false
   },
   "outputs": [
    {
     "name": "stderr",
     "output_type": "stream",
     "text": [
      "/Users/libingyi/anaconda/envs/python36/lib/python3.6/site-packages/pandas/core/generic.py:3110: SettingWithCopyWarning: \n",
      "A value is trying to be set on a copy of a slice from a DataFrame.\n",
      "Try using .loc[row_indexer,col_indexer] = value instead\n",
      "\n",
      "See the caveats in the documentation: http://pandas.pydata.org/pandas-docs/stable/indexing.html#indexing-view-versus-copy\n",
      "  self[name] = value\n"
     ]
    },
    {
     "data": {
      "text/html": [
       "\n",
       "<div class=\"bk-root\">\n",
       "    <div class=\"bk-plotdiv\" id=\"702fa04b-e13a-41c6-8311-4cede97dc547\"></div>\n",
       "</div>"
      ]
     },
     "metadata": {},
     "output_type": "display_data"
    },
    {
     "data": {
      "application/javascript": [
       "(function(root) {\n",
       "  function embed_document(root) {\n",
       "    \n",
       "  var docs_json = {\"1db23197-17d6-4a7f-9c32-eb305b8f1d23\":{\"roots\":{\"references\":[{\"attributes\":{},\"id\":\"0755e1e3-5744-4f3c-9abd-d38021d6a8dc\",\"type\":\"CategoricalScale\"},{\"attributes\":{\"source\":{\"id\":\"a304ece3-e121-485c-944a-0373e5a6ceec\",\"type\":\"ColumnDataSource\"}},\"id\":\"d8706a8e-93ab-4f15-a4ff-0be4551747ed\",\"type\":\"CDSView\"},{\"attributes\":{},\"id\":\"2d234e54-4c61-4955-950c-e131c2a94a2c\",\"type\":\"LinearScale\"},{\"attributes\":{\"axis_label\":\"Year\",\"formatter\":{\"id\":\"d2b84b8f-b557-46f2-a7b4-167942d2d094\",\"type\":\"CategoricalTickFormatter\"},\"major_label_orientation\":1.2,\"plot\":{\"id\":\"ea23aa11-6583-4db9-bcf9-8094f9dfecb8\",\"subtype\":\"Figure\",\"type\":\"Plot\"},\"ticker\":{\"id\":\"5db649e3-ba22-4fcd-bfcc-e8451b116eab\",\"type\":\"CategoricalTicker\"}},\"id\":\"847c86f7-b50f-43ac-9356-056424998690\",\"type\":\"CategoricalAxis\"},{\"attributes\":{},\"id\":\"ccdc827f-f706-483a-938a-44401de786a2\",\"type\":\"BasicTickFormatter\"},{\"attributes\":{\"fill_alpha\":{\"value\":0.1},\"fill_color\":{\"value\":\"#1f77b4\"},\"line_alpha\":{\"value\":0.1},\"line_color\":{\"value\":\"#1f77b4\"},\"top\":{\"field\":\"IncidntNum_mean\"},\"width\":{\"value\":0.9},\"x\":{\"field\":\"Year\"}},\"id\":\"1d96973a-7a5d-4b60-b761-9ded37725865\",\"type\":\"VBar\"},{\"attributes\":{\"callback\":null,\"tooltips\":[[\"IncidntNum\",\"@IncidntNum_mean\"],[\"Year\",\"@Year\"]]},\"id\":\"418a6b69-7425-41e8-a765-f4712e4e6f9b\",\"type\":\"HoverTool\"},{\"attributes\":{\"callback\":null,\"factors\":[\"2005\",\"2006\",\"2007\",\"2008\",\"2009\",\"2010\",\"2011\",\"2012\",\"2013\",\"2014\",\"2015\"],\"range_padding\":0.1},\"id\":\"cbaff1a7-5951-444d-b195-eddbac08b4cc\",\"type\":\"FactorRange\"},{\"attributes\":{},\"id\":\"d2b84b8f-b557-46f2-a7b4-167942d2d094\",\"type\":\"CategoricalTickFormatter\"},{\"attributes\":{},\"id\":\"5db649e3-ba22-4fcd-bfcc-e8451b116eab\",\"type\":\"CategoricalTicker\"},{\"attributes\":{},\"id\":\"2d72ffd3-8826-4ff8-9ea2-22ae93b2b4e8\",\"type\":\"BasicTicker\"},{\"attributes\":{\"callback\":null,\"column_names\":[\"IncidntNum_count\",\"IncidntNum_mean\",\"IncidntNum_std\",\"IncidntNum_min\",\"IncidntNum_25%\",\"IncidntNum_50%\",\"IncidntNum_75%\",\"IncidntNum_max\",\"Month_count\",\"Month_mean\",\"Month_std\",\"Month_min\",\"Month_25%\",\"Month_50%\",\"Month_75%\",\"Month_max\",\"Year\"],\"data\":{\"IncidntNum_25%\":{\"__ndarray__\":\"AAAAAACln0AAAAAAAC2hQAAAAAAAqZ9AAAAAAAAJoEAAAAAAANieQAAAAAAAIp5AAAAAAAAooEAAAAAAAOyhQAAAAACAvKVAAAAAAIDBpkAAAAAAAKCpQA==\",\"dtype\":\"float64\",\"shape\":[11]},\"IncidntNum_50%\":{\"__ndarray__\":\"AAAAAACcoEAAAAAAABeiQAAAAAAAXqBAAAAAAAD6oEAAAAAAAN2gQAAAAAAAjaBAAAAAAAChoEAAAAAAAAOkQAAAAAAAzKZAAAAAAABDqEAAAAAAABCsQA==\",\"dtype\":\"float64\",\"shape\":[11]},\"IncidntNum_75%\":{\"__ndarray__\":\"AAAAAABGoUAAAAAAgG+iQAAAAACAGaJAAAAAAABdoUAAAAAAAKyhQAAAAACAzqBAAAAAAACJoUAAAAAAgEqmQAAAAAAABqpAAAAAAICRq0AAAAAAAHutQA==\",\"dtype\":\"float64\",\"shape\":[11]},\"IncidntNum_count\":{\"__ndarray__\":\"AAAAAAAAKEAAAAAAAAAoQAAAAAAAAChAAAAAAAAAKEAAAAAAAAAoQAAAAAAAAChAAAAAAAAAKEAAAAAAAAAoQAAAAAAAAChAAAAAAAAAKEAAAAAAAAAoQA==\",\"dtype\":\"float64\",\"shape\":[11]},\"IncidntNum_max\":{\"__ndarray__\":\"AAAAAADMokAAAAAAANCiQAAAAAAA0KNAAAAAAADookAAAAAAAJqjQAAAAAAA4qFAAAAAAAD4okAAAAAAAJyoQAAAAAAAKKxAAAAAAACsrEAAAAAAAE6uQA==\",\"dtype\":\"float64\",\"shape\":[11]},\"IncidntNum_mean\":{\"__ndarray__\":\"VVVVVdV7oECrqqqqqs6hQAAAAAAAx6BAq6qqqirNoECrqqqqKqigQKuqqqqq1J9AAAAAAIDdoECrqqqqqiqkQKuqqqqqtKdAVVVVVdW9qEBVVVVVVWOrQA==\",\"dtype\":\"float64\",\"shape\":[11]},\"IncidntNum_min\":{\"__ndarray__\":\"AAAAAAAYm0AAAAAAADqgQAAAAAAArJlAAAAAAACAnUAAAAAAANicQAAAAAAAdJpAAAAAAAAQnkAAAAAAAICgQAAAAAAA6qRAAAAAAADqo0AAAAAAAPamQA==\",\"dtype\":\"float64\",\"shape\":[11]},\"IncidntNum_std\":{\"__ndarray__\":\"6j5KYuHEZkBtmQV0/19cQLLdV1yuyG5AegGG0UQ9Y0Cm/fXl31xpQPpR8+WQQWZAzu8YmZmYYUA7dOXEIJJ1QCOaBWYSR3RAAMh8GfXBd0Bk3xywBAx1QA==\",\"dtype\":\"float64\",\"shape\":[11]},\"Month_25%\":{\"__ndarray__\":\"AAAAAAAADkAAAAAAAAAOQAAAAAAAAA5AAAAAAAAADkAAAAAAAAAOQAAAAAAAAA5AAAAAAAAADkAAAAAAAAAOQAAAAAAAAA5AAAAAAAAADkAAAAAAAAAOQA==\",\"dtype\":\"float64\",\"shape\":[11]},\"Month_50%\":{\"__ndarray__\":\"AAAAAAAAGkAAAAAAAAAaQAAAAAAAABpAAAAAAAAAGkAAAAAAAAAaQAAAAAAAABpAAAAAAAAAGkAAAAAAAAAaQAAAAAAAABpAAAAAAAAAGkAAAAAAAAAaQA==\",\"dtype\":\"float64\",\"shape\":[11]},\"Month_75%\":{\"__ndarray__\":\"AAAAAACAIkAAAAAAAIAiQAAAAAAAgCJAAAAAAACAIkAAAAAAAIAiQAAAAAAAgCJAAAAAAACAIkAAAAAAAIAiQAAAAAAAgCJAAAAAAACAIkAAAAAAAIAiQA==\",\"dtype\":\"float64\",\"shape\":[11]},\"Month_count\":{\"__ndarray__\":\"AAAAAAAAKEAAAAAAAAAoQAAAAAAAAChAAAAAAAAAKEAAAAAAAAAoQAAAAAAAAChAAAAAAAAAKEAAAAAAAAAoQAAAAAAAAChAAAAAAAAAKEAAAAAAAAAoQA==\",\"dtype\":\"float64\",\"shape\":[11]},\"Month_max\":{\"__ndarray__\":\"AAAAAAAAKEAAAAAAAAAoQAAAAAAAAChAAAAAAAAAKEAAAAAAAAAoQAAAAAAAAChAAAAAAAAAKEAAAAAAAAAoQAAAAAAAAChAAAAAAAAAKEAAAAAAAAAoQA==\",\"dtype\":\"float64\",\"shape\":[11]},\"Month_mean\":{\"__ndarray__\":\"AAAAAAAAGkAAAAAAAAAaQAAAAAAAABpAAAAAAAAAGkAAAAAAAAAaQAAAAAAAABpAAAAAAAAAGkAAAAAAAAAaQAAAAAAAABpAAAAAAAAAGkAAAAAAAAAaQA==\",\"dtype\":\"float64\",\"shape\":[11]},\"Month_min\":{\"__ndarray__\":\"AAAAAAAA8D8AAAAAAADwPwAAAAAAAPA/AAAAAAAA8D8AAAAAAADwPwAAAAAAAPA/AAAAAAAA8D8AAAAAAADwPwAAAAAAAPA/AAAAAAAA8D8AAAAAAADwPw==\",\"dtype\":\"float64\",\"shape\":[11]},\"Month_std\":{\"__ndarray__\":\"81lhRCvYDEDzWWFEK9gMQPNZYUQr2AxA81lhRCvYDEDzWWFEK9gMQPNZYUQr2AxA81lhRCvYDEDzWWFEK9gMQPNZYUQr2AxA81lhRCvYDEDzWWFEK9gMQA==\",\"dtype\":\"float64\",\"shape\":[11]},\"Year\":[\"2005\",\"2006\",\"2007\",\"2008\",\"2009\",\"2010\",\"2011\",\"2012\",\"2013\",\"2014\",\"2015\"]},\"selected\":null,\"selection_policy\":null},\"id\":\"a304ece3-e121-485c-944a-0373e5a6ceec\",\"type\":\"ColumnDataSource\"},{\"attributes\":{\"callback\":null,\"start\":0},\"id\":\"1e6ebd43-fe92-44e5-99ff-9fceb026314b\",\"type\":\"DataRange1d\"},{\"attributes\":{\"plot\":null,\"text\":\"Average Number of Larceny/Theft\"},\"id\":\"cb1a4034-77a6-4c6d-932c-4ca402a84c2c\",\"type\":\"Title\"},{\"attributes\":{\"formatter\":{\"id\":\"ccdc827f-f706-483a-938a-44401de786a2\",\"type\":\"BasicTickFormatter\"},\"plot\":{\"id\":\"ea23aa11-6583-4db9-bcf9-8094f9dfecb8\",\"subtype\":\"Figure\",\"type\":\"Plot\"},\"ticker\":{\"id\":\"2d72ffd3-8826-4ff8-9ea2-22ae93b2b4e8\",\"type\":\"BasicTicker\"}},\"id\":\"8c215067-2702-4e9b-a421-7a408dc1b973\",\"type\":\"LinearAxis\"},{\"attributes\":{\"grid_line_color\":{\"value\":null},\"plot\":{\"id\":\"ea23aa11-6583-4db9-bcf9-8094f9dfecb8\",\"subtype\":\"Figure\",\"type\":\"Plot\"},\"ticker\":{\"id\":\"5db649e3-ba22-4fcd-bfcc-e8451b116eab\",\"type\":\"CategoricalTicker\"}},\"id\":\"856336aa-7a05-458a-98ed-61ebff2c1ae4\",\"type\":\"Grid\"},{\"attributes\":{\"fill_alpha\":{\"value\":0.5},\"fill_color\":{\"field\":\"Year\",\"transform\":{\"id\":\"933eed87-0394-42bc-8ed2-22bda617c738\",\"type\":\"CategoricalColorMapper\"}},\"line_alpha\":{\"value\":0.5},\"line_color\":{\"field\":\"Year\",\"transform\":{\"id\":\"933eed87-0394-42bc-8ed2-22bda617c738\",\"type\":\"CategoricalColorMapper\"}},\"top\":{\"field\":\"IncidntNum_mean\"},\"width\":{\"value\":0.9},\"x\":{\"field\":\"Year\"}},\"id\":\"6b3c51bf-5b45-4d93-96d0-b40e9d4740c6\",\"type\":\"VBar\"},{\"attributes\":{\"active_drag\":\"auto\",\"active_inspect\":\"auto\",\"active_scroll\":\"auto\",\"active_tap\":\"auto\",\"tools\":[{\"id\":\"418a6b69-7425-41e8-a765-f4712e4e6f9b\",\"type\":\"HoverTool\"}]},\"id\":\"31cb3cc7-d395-4db4-8033-4be813686908\",\"type\":\"Toolbar\"},{\"attributes\":{\"dimension\":1,\"plot\":{\"id\":\"ea23aa11-6583-4db9-bcf9-8094f9dfecb8\",\"subtype\":\"Figure\",\"type\":\"Plot\"},\"ticker\":{\"id\":\"2d72ffd3-8826-4ff8-9ea2-22ae93b2b4e8\",\"type\":\"BasicTicker\"}},\"id\":\"2aef3626-9513-4312-864d-cd56714c6f17\",\"type\":\"Grid\"},{\"attributes\":{\"below\":[{\"id\":\"847c86f7-b50f-43ac-9356-056424998690\",\"type\":\"CategoricalAxis\"}],\"left\":[{\"id\":\"8c215067-2702-4e9b-a421-7a408dc1b973\",\"type\":\"LinearAxis\"}],\"plot_height\":350,\"renderers\":[{\"id\":\"847c86f7-b50f-43ac-9356-056424998690\",\"type\":\"CategoricalAxis\"},{\"id\":\"856336aa-7a05-458a-98ed-61ebff2c1ae4\",\"type\":\"Grid\"},{\"id\":\"8c215067-2702-4e9b-a421-7a408dc1b973\",\"type\":\"LinearAxis\"},{\"id\":\"2aef3626-9513-4312-864d-cd56714c6f17\",\"type\":\"Grid\"},{\"id\":\"4eeec844-5a73-4946-b58e-0b057612bc74\",\"type\":\"GlyphRenderer\"}],\"title\":{\"id\":\"cb1a4034-77a6-4c6d-932c-4ca402a84c2c\",\"type\":\"Title\"},\"toolbar\":{\"id\":\"31cb3cc7-d395-4db4-8033-4be813686908\",\"type\":\"Toolbar\"},\"toolbar_location\":null,\"x_range\":{\"id\":\"cbaff1a7-5951-444d-b195-eddbac08b4cc\",\"type\":\"FactorRange\"},\"x_scale\":{\"id\":\"0755e1e3-5744-4f3c-9abd-d38021d6a8dc\",\"type\":\"CategoricalScale\"},\"y_range\":{\"id\":\"1e6ebd43-fe92-44e5-99ff-9fceb026314b\",\"type\":\"DataRange1d\"},\"y_scale\":{\"id\":\"2d234e54-4c61-4955-950c-e131c2a94a2c\",\"type\":\"LinearScale\"}},\"id\":\"ea23aa11-6583-4db9-bcf9-8094f9dfecb8\",\"subtype\":\"Figure\",\"type\":\"Plot\"},{\"attributes\":{\"data_source\":{\"id\":\"a304ece3-e121-485c-944a-0373e5a6ceec\",\"type\":\"ColumnDataSource\"},\"glyph\":{\"id\":\"6b3c51bf-5b45-4d93-96d0-b40e9d4740c6\",\"type\":\"VBar\"},\"hover_glyph\":null,\"muted_glyph\":null,\"nonselection_glyph\":{\"id\":\"1d96973a-7a5d-4b60-b761-9ded37725865\",\"type\":\"VBar\"},\"selection_glyph\":null,\"view\":{\"id\":\"d8706a8e-93ab-4f15-a4ff-0be4551747ed\",\"type\":\"CDSView\"}},\"id\":\"4eeec844-5a73-4946-b58e-0b057612bc74\",\"type\":\"GlyphRenderer\"},{\"attributes\":{\"factors\":[\"2005\",\"2006\",\"2007\",\"2008\",\"2009\",\"2010\",\"2011\",\"2012\",\"2013\",\"2014\",\"2015\"],\"palette\":[\"blue\",\"blue\",\"blue\",\"blue\",\"blue\",\"blue\",\"blue\",\"blue\",\"blue\",\"blue\",\"blue\"]},\"id\":\"933eed87-0394-42bc-8ed2-22bda617c738\",\"type\":\"CategoricalColorMapper\"}],\"root_ids\":[\"ea23aa11-6583-4db9-bcf9-8094f9dfecb8\"]},\"title\":\"Bokeh Application\",\"version\":\"0.12.15\"}};\n",
       "  var render_items = [{\"docid\":\"1db23197-17d6-4a7f-9c32-eb305b8f1d23\",\"elementid\":\"702fa04b-e13a-41c6-8311-4cede97dc547\",\"modelid\":\"ea23aa11-6583-4db9-bcf9-8094f9dfecb8\"}];\n",
       "  root.Bokeh.embed.embed_items_notebook(docs_json, render_items);\n",
       "\n",
       "  }\n",
       "  if (root.Bokeh !== undefined) {\n",
       "    embed_document(root);\n",
       "  } else {\n",
       "    var attempts = 0;\n",
       "    var timer = setInterval(function(root) {\n",
       "      if (root.Bokeh !== undefined) {\n",
       "        embed_document(root);\n",
       "        clearInterval(timer);\n",
       "      }\n",
       "      attempts++;\n",
       "      if (attempts > 100) {\n",
       "        console.log(\"Bokeh: ERROR: Unable to run BokehJS code because BokehJS library is missing\")\n",
       "        clearInterval(timer);\n",
       "      }\n",
       "    }, 10, root)\n",
       "  }\n",
       "})(window);"
      ],
      "application/vnd.bokehjs_exec.v0+json": ""
     },
     "metadata": {
      "application/vnd.bokehjs_exec.v0+json": {
       "id": "ea23aa11-6583-4db9-bcf9-8094f9dfecb8"
      }
     },
     "output_type": "display_data"
    }
   ],
   "source": [
    "# Bar Chart\n",
    "larc = data[data['Category']=='LARCENY/THEFT']\n",
    "larc.Year = larc.Year.astype(str)\n",
    "group = larc.groupby('Year')\n",
    "\n",
    "source = ColumnDataSource(group)\n",
    "\n",
    "yr_cmap = factor_cmap('Year',palette=['blue']*11, factors=sorted(larc.Year.unique()))\n",
    "\n",
    "p3 = figure(plot_height=350, x_range=group, title=\"Average Number of Larceny/Theft\",\n",
    "           toolbar_location=None, tools=\"\")\n",
    "\n",
    "p3.vbar(x='Year', top='IncidntNum_mean',width=0.9, source=source, alpha=0.5,\n",
    "       line_color=yr_cmap, fill_color=yr_cmap)\n",
    "\n",
    "p3.y_range.start = 0\n",
    "p3.xgrid.grid_line_color = None\n",
    "p3.xaxis.axis_label = \"Year\"\n",
    "p3.xaxis.major_label_orientation = 1.2\n",
    "p3.x_range.range_padding = 0.1\n",
    "\n",
    "p3.add_tools(HoverTool(tooltips=[(\"IncidntNum\", \"@IncidntNum_mean\"), (\"Year\", \"@Year\")]))\n",
    "\n",
    "show(p3)"
   ]
  },
  {
   "cell_type": "markdown",
   "metadata": {
    "collapsed": true
   },
   "source": [
    "We can see that in 2010, the average number of larceny/theft is 2037, which is the lowest. And in 2015 the average number is 3506, which is the highest."
   ]
  }
 ],
 "metadata": {
  "kernelspec": {
   "display_name": "Python 3",
   "language": "python",
   "name": "python3"
  },
  "language_info": {
   "codemirror_mode": {
    "name": "ipython",
    "version": 3
   },
   "file_extension": ".py",
   "mimetype": "text/x-python",
   "name": "python",
   "nbconvert_exporter": "python",
   "pygments_lexer": "ipython3",
   "version": "3.6.3"
  }
 },
 "nbformat": 4,
 "nbformat_minor": 2
}
